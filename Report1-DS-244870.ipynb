{
 "cells": [
  {
   "cell_type": "markdown",
   "id": "73e96a9f",
   "metadata": {},
   "source": [
    "Data Research Method Assignment for Movie data"
   ]
  },
  {
   "cell_type": "markdown",
   "id": "32c13fc7",
   "metadata": {},
   "source": [
    "Import all the libraries we want to use and load data which we have received and print out a few lines.Print out the few lines using the function readcsvfile, which helps to read the file and print the lines."
   ]
  },
  {
   "cell_type": "code",
   "execution_count": 440,
   "id": "29f40eac",
   "metadata": {
    "scrolled": true
   },
   "outputs": [],
   "source": [
    "#standard imports for when working with pandas\n",
    "import numpy as np\n",
    "#matplotlib inline\n",
    "from matplotlib import pyplot as plt\n",
    "import pandas as pd\n",
    "import seaborn as sns\n",
    "import scipy.stats as st\n",
    "import csv\n",
    "\n",
    "myfile = 'movie_metadata.csv'\n",
    "\n",
    "import csv\n",
    "def readcsvfile(filename):\n",
    "    with open(filename,'r') as instream:\n",
    "        csvreader=csv.reader(instream)\n",
    "        lines=[]\n",
    "        for line in csvreader:\n",
    "            lines.append(line)\n",
    "    return lines\n"
   ]
  },
  {
   "cell_type": "markdown",
   "id": "88ce6dff",
   "metadata": {},
   "source": [
    "print the table using the pandas head which prints top 5 line items"
   ]
  },
  {
   "cell_type": "code",
   "execution_count": 441,
   "id": "200af863",
   "metadata": {
    "scrolled": true
   },
   "outputs": [
    {
     "data": {
      "text/html": [
       "<div>\n",
       "<style scoped>\n",
       "    .dataframe tbody tr th:only-of-type {\n",
       "        vertical-align: middle;\n",
       "    }\n",
       "\n",
       "    .dataframe tbody tr th {\n",
       "        vertical-align: top;\n",
       "    }\n",
       "\n",
       "    .dataframe thead th {\n",
       "        text-align: right;\n",
       "    }\n",
       "</style>\n",
       "<table border=\"1\" class=\"dataframe\">\n",
       "  <thead>\n",
       "    <tr style=\"text-align: right;\">\n",
       "      <th></th>\n",
       "      <th>color</th>\n",
       "      <th>director_name</th>\n",
       "      <th>num_critic_for_reviews</th>\n",
       "      <th>duration</th>\n",
       "      <th>director_facebook_likes</th>\n",
       "      <th>actor_3_facebook_likes</th>\n",
       "      <th>actor_2_name</th>\n",
       "      <th>actor_1_facebook_likes</th>\n",
       "      <th>gross</th>\n",
       "      <th>genres</th>\n",
       "      <th>...</th>\n",
       "      <th>num_user_for_reviews</th>\n",
       "      <th>language</th>\n",
       "      <th>country</th>\n",
       "      <th>content_rating</th>\n",
       "      <th>budget</th>\n",
       "      <th>title_year</th>\n",
       "      <th>actor_2_facebook_likes</th>\n",
       "      <th>imdb_score</th>\n",
       "      <th>aspect_ratio</th>\n",
       "      <th>movie_facebook_likes</th>\n",
       "    </tr>\n",
       "  </thead>\n",
       "  <tbody>\n",
       "    <tr>\n",
       "      <th>0</th>\n",
       "      <td>Color</td>\n",
       "      <td>James Cameron</td>\n",
       "      <td>723.0</td>\n",
       "      <td>178.0</td>\n",
       "      <td>0.0</td>\n",
       "      <td>855.0</td>\n",
       "      <td>Joel David Moore</td>\n",
       "      <td>1000.0</td>\n",
       "      <td>760505847.0</td>\n",
       "      <td>Action|Adventure|Fantasy|Sci-Fi</td>\n",
       "      <td>...</td>\n",
       "      <td>3054.0</td>\n",
       "      <td>English</td>\n",
       "      <td>USA</td>\n",
       "      <td>PG-13</td>\n",
       "      <td>237000000.0</td>\n",
       "      <td>2009.0</td>\n",
       "      <td>936.0</td>\n",
       "      <td>7.9</td>\n",
       "      <td>1.78</td>\n",
       "      <td>33000</td>\n",
       "    </tr>\n",
       "    <tr>\n",
       "      <th>1</th>\n",
       "      <td>Color</td>\n",
       "      <td>Gore Verbinski</td>\n",
       "      <td>302.0</td>\n",
       "      <td>169.0</td>\n",
       "      <td>563.0</td>\n",
       "      <td>1000.0</td>\n",
       "      <td>Orlando Bloom</td>\n",
       "      <td>40000.0</td>\n",
       "      <td>309404152.0</td>\n",
       "      <td>Action|Adventure|Fantasy</td>\n",
       "      <td>...</td>\n",
       "      <td>1238.0</td>\n",
       "      <td>English</td>\n",
       "      <td>USA</td>\n",
       "      <td>PG-13</td>\n",
       "      <td>300000000.0</td>\n",
       "      <td>2007.0</td>\n",
       "      <td>5000.0</td>\n",
       "      <td>7.1</td>\n",
       "      <td>2.35</td>\n",
       "      <td>0</td>\n",
       "    </tr>\n",
       "    <tr>\n",
       "      <th>2</th>\n",
       "      <td>Color</td>\n",
       "      <td>Sam Mendes</td>\n",
       "      <td>602.0</td>\n",
       "      <td>148.0</td>\n",
       "      <td>0.0</td>\n",
       "      <td>161.0</td>\n",
       "      <td>Rory Kinnear</td>\n",
       "      <td>11000.0</td>\n",
       "      <td>200074175.0</td>\n",
       "      <td>Action|Adventure|Thriller</td>\n",
       "      <td>...</td>\n",
       "      <td>994.0</td>\n",
       "      <td>English</td>\n",
       "      <td>UK</td>\n",
       "      <td>PG-13</td>\n",
       "      <td>245000000.0</td>\n",
       "      <td>2015.0</td>\n",
       "      <td>393.0</td>\n",
       "      <td>6.8</td>\n",
       "      <td>2.35</td>\n",
       "      <td>85000</td>\n",
       "    </tr>\n",
       "    <tr>\n",
       "      <th>3</th>\n",
       "      <td>Color</td>\n",
       "      <td>Christopher Nolan</td>\n",
       "      <td>813.0</td>\n",
       "      <td>164.0</td>\n",
       "      <td>22000.0</td>\n",
       "      <td>23000.0</td>\n",
       "      <td>Christian Bale</td>\n",
       "      <td>27000.0</td>\n",
       "      <td>448130642.0</td>\n",
       "      <td>Action|Thriller</td>\n",
       "      <td>...</td>\n",
       "      <td>2701.0</td>\n",
       "      <td>English</td>\n",
       "      <td>USA</td>\n",
       "      <td>PG-13</td>\n",
       "      <td>250000000.0</td>\n",
       "      <td>2012.0</td>\n",
       "      <td>23000.0</td>\n",
       "      <td>8.5</td>\n",
       "      <td>2.35</td>\n",
       "      <td>164000</td>\n",
       "    </tr>\n",
       "    <tr>\n",
       "      <th>4</th>\n",
       "      <td>NaN</td>\n",
       "      <td>Doug Walker</td>\n",
       "      <td>NaN</td>\n",
       "      <td>NaN</td>\n",
       "      <td>131.0</td>\n",
       "      <td>NaN</td>\n",
       "      <td>Rob Walker</td>\n",
       "      <td>131.0</td>\n",
       "      <td>NaN</td>\n",
       "      <td>Documentary</td>\n",
       "      <td>...</td>\n",
       "      <td>NaN</td>\n",
       "      <td>NaN</td>\n",
       "      <td>NaN</td>\n",
       "      <td>NaN</td>\n",
       "      <td>NaN</td>\n",
       "      <td>NaN</td>\n",
       "      <td>12.0</td>\n",
       "      <td>7.1</td>\n",
       "      <td>NaN</td>\n",
       "      <td>0</td>\n",
       "    </tr>\n",
       "  </tbody>\n",
       "</table>\n",
       "<p>5 rows × 28 columns</p>\n",
       "</div>"
      ],
      "text/plain": [
       "   color      director_name  num_critic_for_reviews  duration  \\\n",
       "0  Color      James Cameron                   723.0     178.0   \n",
       "1  Color     Gore Verbinski                   302.0     169.0   \n",
       "2  Color         Sam Mendes                   602.0     148.0   \n",
       "3  Color  Christopher Nolan                   813.0     164.0   \n",
       "4    NaN        Doug Walker                     NaN       NaN   \n",
       "\n",
       "   director_facebook_likes  actor_3_facebook_likes      actor_2_name  \\\n",
       "0                      0.0                   855.0  Joel David Moore   \n",
       "1                    563.0                  1000.0     Orlando Bloom   \n",
       "2                      0.0                   161.0      Rory Kinnear   \n",
       "3                  22000.0                 23000.0    Christian Bale   \n",
       "4                    131.0                     NaN        Rob Walker   \n",
       "\n",
       "   actor_1_facebook_likes        gross                           genres  ...  \\\n",
       "0                  1000.0  760505847.0  Action|Adventure|Fantasy|Sci-Fi  ...   \n",
       "1                 40000.0  309404152.0         Action|Adventure|Fantasy  ...   \n",
       "2                 11000.0  200074175.0        Action|Adventure|Thriller  ...   \n",
       "3                 27000.0  448130642.0                  Action|Thriller  ...   \n",
       "4                   131.0          NaN                      Documentary  ...   \n",
       "\n",
       "  num_user_for_reviews language  country  content_rating       budget  \\\n",
       "0               3054.0  English      USA           PG-13  237000000.0   \n",
       "1               1238.0  English      USA           PG-13  300000000.0   \n",
       "2                994.0  English       UK           PG-13  245000000.0   \n",
       "3               2701.0  English      USA           PG-13  250000000.0   \n",
       "4                  NaN      NaN      NaN             NaN          NaN   \n",
       "\n",
       "   title_year actor_2_facebook_likes imdb_score  aspect_ratio  \\\n",
       "0      2009.0                  936.0        7.9          1.78   \n",
       "1      2007.0                 5000.0        7.1          2.35   \n",
       "2      2015.0                  393.0        6.8          2.35   \n",
       "3      2012.0                23000.0        8.5          2.35   \n",
       "4         NaN                   12.0        7.1           NaN   \n",
       "\n",
       "  movie_facebook_likes  \n",
       "0                33000  \n",
       "1                    0  \n",
       "2                85000  \n",
       "3               164000  \n",
       "4                    0  \n",
       "\n",
       "[5 rows x 28 columns]"
      ]
     },
     "execution_count": 441,
     "metadata": {},
     "output_type": "execute_result"
    }
   ],
   "source": [
    "moviedata=readcsvfile(myfile)\n",
    "df = pd.read_csv(myfile,index_col=None)\n",
    "df.head()"
   ]
  },
  {
   "cell_type": "code",
   "execution_count": 442,
   "id": "38ba547f",
   "metadata": {
    "scrolled": true
   },
   "outputs": [
    {
     "data": {
      "text/plain": [
       "(5043, 28)"
      ]
     },
     "execution_count": 442,
     "metadata": {},
     "output_type": "execute_result"
    }
   ],
   "source": [
    "df.shape # Assess number of rows and columns of dataset"
   ]
  },
  {
   "cell_type": "code",
   "execution_count": 443,
   "id": "eaf72a27",
   "metadata": {
    "scrolled": true
   },
   "outputs": [
    {
     "name": "stdout",
     "output_type": "stream",
     "text": [
      "<class 'pandas.core.frame.DataFrame'>\n",
      "RangeIndex: 5043 entries, 0 to 5042\n",
      "Data columns (total 28 columns):\n",
      " #   Column                     Non-Null Count  Dtype  \n",
      "---  ------                     --------------  -----  \n",
      " 0   color                      5024 non-null   object \n",
      " 1   director_name              4939 non-null   object \n",
      " 2   num_critic_for_reviews     4993 non-null   float64\n",
      " 3   duration                   5028 non-null   float64\n",
      " 4   director_facebook_likes    4939 non-null   float64\n",
      " 5   actor_3_facebook_likes     5020 non-null   float64\n",
      " 6   actor_2_name               5030 non-null   object \n",
      " 7   actor_1_facebook_likes     5036 non-null   float64\n",
      " 8   gross                      4159 non-null   float64\n",
      " 9   genres                     5043 non-null   object \n",
      " 10  actor_1_name               5036 non-null   object \n",
      " 11  movie_title                5043 non-null   object \n",
      " 12  num_voted_users            5043 non-null   int64  \n",
      " 13  cast_total_facebook_likes  5043 non-null   int64  \n",
      " 14  actor_3_name               5020 non-null   object \n",
      " 15  facenumber_in_poster       5030 non-null   float64\n",
      " 16  plot_keywords              4890 non-null   object \n",
      " 17  movie_imdb_link            5043 non-null   object \n",
      " 18  num_user_for_reviews       5022 non-null   float64\n",
      " 19  language                   5031 non-null   object \n",
      " 20  country                    5038 non-null   object \n",
      " 21  content_rating             4740 non-null   object \n",
      " 22  budget                     4551 non-null   float64\n",
      " 23  title_year                 4935 non-null   float64\n",
      " 24  actor_2_facebook_likes     5030 non-null   float64\n",
      " 25  imdb_score                 5043 non-null   float64\n",
      " 26  aspect_ratio               4714 non-null   float64\n",
      " 27  movie_facebook_likes       5043 non-null   int64  \n",
      "dtypes: float64(13), int64(3), object(12)\n",
      "memory usage: 1.1+ MB\n"
     ]
    }
   ],
   "source": [
    "df.info()# Assess summary of dataset, including datatypes, and check for missing data."
   ]
  },
  {
   "cell_type": "code",
   "execution_count": 444,
   "id": "8a405f80",
   "metadata": {},
   "outputs": [
    {
     "data": {
      "text/html": [
       "<div>\n",
       "<style scoped>\n",
       "    .dataframe tbody tr th:only-of-type {\n",
       "        vertical-align: middle;\n",
       "    }\n",
       "\n",
       "    .dataframe tbody tr th {\n",
       "        vertical-align: top;\n",
       "    }\n",
       "\n",
       "    .dataframe thead th {\n",
       "        text-align: right;\n",
       "    }\n",
       "</style>\n",
       "<table border=\"1\" class=\"dataframe\">\n",
       "  <thead>\n",
       "    <tr style=\"text-align: right;\">\n",
       "      <th></th>\n",
       "      <th>num_critic_for_reviews</th>\n",
       "      <th>duration</th>\n",
       "      <th>director_facebook_likes</th>\n",
       "      <th>actor_3_facebook_likes</th>\n",
       "      <th>actor_1_facebook_likes</th>\n",
       "      <th>gross</th>\n",
       "      <th>num_voted_users</th>\n",
       "      <th>cast_total_facebook_likes</th>\n",
       "      <th>facenumber_in_poster</th>\n",
       "      <th>num_user_for_reviews</th>\n",
       "      <th>budget</th>\n",
       "      <th>title_year</th>\n",
       "      <th>actor_2_facebook_likes</th>\n",
       "      <th>imdb_score</th>\n",
       "      <th>aspect_ratio</th>\n",
       "      <th>movie_facebook_likes</th>\n",
       "    </tr>\n",
       "  </thead>\n",
       "  <tbody>\n",
       "    <tr>\n",
       "      <th>count</th>\n",
       "      <td>4993.000000</td>\n",
       "      <td>5028.000000</td>\n",
       "      <td>4939.000000</td>\n",
       "      <td>5020.000000</td>\n",
       "      <td>5036.000000</td>\n",
       "      <td>4.159000e+03</td>\n",
       "      <td>5.043000e+03</td>\n",
       "      <td>5043.000000</td>\n",
       "      <td>5030.000000</td>\n",
       "      <td>5022.000000</td>\n",
       "      <td>4.551000e+03</td>\n",
       "      <td>4935.000000</td>\n",
       "      <td>5030.000000</td>\n",
       "      <td>5043.000000</td>\n",
       "      <td>4714.000000</td>\n",
       "      <td>5043.000000</td>\n",
       "    </tr>\n",
       "    <tr>\n",
       "      <th>mean</th>\n",
       "      <td>140.194272</td>\n",
       "      <td>107.201074</td>\n",
       "      <td>686.509212</td>\n",
       "      <td>645.009761</td>\n",
       "      <td>6560.047061</td>\n",
       "      <td>4.846841e+07</td>\n",
       "      <td>8.366816e+04</td>\n",
       "      <td>9699.063851</td>\n",
       "      <td>1.371173</td>\n",
       "      <td>272.770808</td>\n",
       "      <td>3.975262e+07</td>\n",
       "      <td>2002.470517</td>\n",
       "      <td>1651.754473</td>\n",
       "      <td>6.442138</td>\n",
       "      <td>2.220403</td>\n",
       "      <td>7525.964505</td>\n",
       "    </tr>\n",
       "    <tr>\n",
       "      <th>std</th>\n",
       "      <td>121.601675</td>\n",
       "      <td>25.197441</td>\n",
       "      <td>2813.328607</td>\n",
       "      <td>1665.041728</td>\n",
       "      <td>15020.759120</td>\n",
       "      <td>6.845299e+07</td>\n",
       "      <td>1.384853e+05</td>\n",
       "      <td>18163.799124</td>\n",
       "      <td>2.013576</td>\n",
       "      <td>377.982886</td>\n",
       "      <td>2.061149e+08</td>\n",
       "      <td>12.474599</td>\n",
       "      <td>4042.438863</td>\n",
       "      <td>1.125116</td>\n",
       "      <td>1.385113</td>\n",
       "      <td>19320.445110</td>\n",
       "    </tr>\n",
       "    <tr>\n",
       "      <th>min</th>\n",
       "      <td>1.000000</td>\n",
       "      <td>7.000000</td>\n",
       "      <td>0.000000</td>\n",
       "      <td>0.000000</td>\n",
       "      <td>0.000000</td>\n",
       "      <td>1.620000e+02</td>\n",
       "      <td>5.000000e+00</td>\n",
       "      <td>0.000000</td>\n",
       "      <td>0.000000</td>\n",
       "      <td>1.000000</td>\n",
       "      <td>2.180000e+02</td>\n",
       "      <td>1916.000000</td>\n",
       "      <td>0.000000</td>\n",
       "      <td>1.600000</td>\n",
       "      <td>1.180000</td>\n",
       "      <td>0.000000</td>\n",
       "    </tr>\n",
       "    <tr>\n",
       "      <th>25%</th>\n",
       "      <td>50.000000</td>\n",
       "      <td>93.000000</td>\n",
       "      <td>7.000000</td>\n",
       "      <td>133.000000</td>\n",
       "      <td>614.000000</td>\n",
       "      <td>5.340988e+06</td>\n",
       "      <td>8.593500e+03</td>\n",
       "      <td>1411.000000</td>\n",
       "      <td>0.000000</td>\n",
       "      <td>65.000000</td>\n",
       "      <td>6.000000e+06</td>\n",
       "      <td>1999.000000</td>\n",
       "      <td>281.000000</td>\n",
       "      <td>5.800000</td>\n",
       "      <td>1.850000</td>\n",
       "      <td>0.000000</td>\n",
       "    </tr>\n",
       "    <tr>\n",
       "      <th>50%</th>\n",
       "      <td>110.000000</td>\n",
       "      <td>103.000000</td>\n",
       "      <td>49.000000</td>\n",
       "      <td>371.500000</td>\n",
       "      <td>988.000000</td>\n",
       "      <td>2.551750e+07</td>\n",
       "      <td>3.435900e+04</td>\n",
       "      <td>3090.000000</td>\n",
       "      <td>1.000000</td>\n",
       "      <td>156.000000</td>\n",
       "      <td>2.000000e+07</td>\n",
       "      <td>2005.000000</td>\n",
       "      <td>595.000000</td>\n",
       "      <td>6.600000</td>\n",
       "      <td>2.350000</td>\n",
       "      <td>166.000000</td>\n",
       "    </tr>\n",
       "    <tr>\n",
       "      <th>75%</th>\n",
       "      <td>195.000000</td>\n",
       "      <td>118.000000</td>\n",
       "      <td>194.500000</td>\n",
       "      <td>636.000000</td>\n",
       "      <td>11000.000000</td>\n",
       "      <td>6.230944e+07</td>\n",
       "      <td>9.630900e+04</td>\n",
       "      <td>13756.500000</td>\n",
       "      <td>2.000000</td>\n",
       "      <td>326.000000</td>\n",
       "      <td>4.500000e+07</td>\n",
       "      <td>2011.000000</td>\n",
       "      <td>918.000000</td>\n",
       "      <td>7.200000</td>\n",
       "      <td>2.350000</td>\n",
       "      <td>3000.000000</td>\n",
       "    </tr>\n",
       "    <tr>\n",
       "      <th>max</th>\n",
       "      <td>813.000000</td>\n",
       "      <td>511.000000</td>\n",
       "      <td>23000.000000</td>\n",
       "      <td>23000.000000</td>\n",
       "      <td>640000.000000</td>\n",
       "      <td>7.605058e+08</td>\n",
       "      <td>1.689764e+06</td>\n",
       "      <td>656730.000000</td>\n",
       "      <td>43.000000</td>\n",
       "      <td>5060.000000</td>\n",
       "      <td>1.221550e+10</td>\n",
       "      <td>2016.000000</td>\n",
       "      <td>137000.000000</td>\n",
       "      <td>9.500000</td>\n",
       "      <td>16.000000</td>\n",
       "      <td>349000.000000</td>\n",
       "    </tr>\n",
       "  </tbody>\n",
       "</table>\n",
       "</div>"
      ],
      "text/plain": [
       "       num_critic_for_reviews     duration  director_facebook_likes  \\\n",
       "count             4993.000000  5028.000000              4939.000000   \n",
       "mean               140.194272   107.201074               686.509212   \n",
       "std                121.601675    25.197441              2813.328607   \n",
       "min                  1.000000     7.000000                 0.000000   \n",
       "25%                 50.000000    93.000000                 7.000000   \n",
       "50%                110.000000   103.000000                49.000000   \n",
       "75%                195.000000   118.000000               194.500000   \n",
       "max                813.000000   511.000000             23000.000000   \n",
       "\n",
       "       actor_3_facebook_likes  actor_1_facebook_likes         gross  \\\n",
       "count             5020.000000             5036.000000  4.159000e+03   \n",
       "mean               645.009761             6560.047061  4.846841e+07   \n",
       "std               1665.041728            15020.759120  6.845299e+07   \n",
       "min                  0.000000                0.000000  1.620000e+02   \n",
       "25%                133.000000              614.000000  5.340988e+06   \n",
       "50%                371.500000              988.000000  2.551750e+07   \n",
       "75%                636.000000            11000.000000  6.230944e+07   \n",
       "max              23000.000000           640000.000000  7.605058e+08   \n",
       "\n",
       "       num_voted_users  cast_total_facebook_likes  facenumber_in_poster  \\\n",
       "count     5.043000e+03                5043.000000           5030.000000   \n",
       "mean      8.366816e+04                9699.063851              1.371173   \n",
       "std       1.384853e+05               18163.799124              2.013576   \n",
       "min       5.000000e+00                   0.000000              0.000000   \n",
       "25%       8.593500e+03                1411.000000              0.000000   \n",
       "50%       3.435900e+04                3090.000000              1.000000   \n",
       "75%       9.630900e+04               13756.500000              2.000000   \n",
       "max       1.689764e+06              656730.000000             43.000000   \n",
       "\n",
       "       num_user_for_reviews        budget   title_year  \\\n",
       "count           5022.000000  4.551000e+03  4935.000000   \n",
       "mean             272.770808  3.975262e+07  2002.470517   \n",
       "std              377.982886  2.061149e+08    12.474599   \n",
       "min                1.000000  2.180000e+02  1916.000000   \n",
       "25%               65.000000  6.000000e+06  1999.000000   \n",
       "50%              156.000000  2.000000e+07  2005.000000   \n",
       "75%              326.000000  4.500000e+07  2011.000000   \n",
       "max             5060.000000  1.221550e+10  2016.000000   \n",
       "\n",
       "       actor_2_facebook_likes   imdb_score  aspect_ratio  movie_facebook_likes  \n",
       "count             5030.000000  5043.000000   4714.000000           5043.000000  \n",
       "mean              1651.754473     6.442138      2.220403           7525.964505  \n",
       "std               4042.438863     1.125116      1.385113          19320.445110  \n",
       "min                  0.000000     1.600000      1.180000              0.000000  \n",
       "25%                281.000000     5.800000      1.850000              0.000000  \n",
       "50%                595.000000     6.600000      2.350000            166.000000  \n",
       "75%                918.000000     7.200000      2.350000           3000.000000  \n",
       "max             137000.000000     9.500000     16.000000         349000.000000  "
      ]
     },
     "execution_count": 444,
     "metadata": {},
     "output_type": "execute_result"
    }
   ],
   "source": [
    "df.describe()#assess statistics for each column"
   ]
  },
  {
   "cell_type": "markdown",
   "id": "6f3386c4",
   "metadata": {},
   "source": [
    "Data Cleaning:\n",
    "*First we'll remove extraneous data and duplicates,\n",
    "*then add and replace information to ensure our dataset is clean for analysis.\n",
    "*I'll drop extraneous columns that aren't relevant to our analysis.\n",
    "*I'm most concerned with budget and gross and imdb rating rather than those columns adjusted for\n",
    "inflation, but will keep it in the dataset in case I want to compare.\n",
    "*I am dropping few colums, which i am not interested in.\n"
   ]
  },
  {
   "cell_type": "code",
   "execution_count": 445,
   "id": "17d11c9d",
   "metadata": {},
   "outputs": [
    {
     "data": {
      "text/html": [
       "<div>\n",
       "<style scoped>\n",
       "    .dataframe tbody tr th:only-of-type {\n",
       "        vertical-align: middle;\n",
       "    }\n",
       "\n",
       "    .dataframe tbody tr th {\n",
       "        vertical-align: top;\n",
       "    }\n",
       "\n",
       "    .dataframe thead th {\n",
       "        text-align: right;\n",
       "    }\n",
       "</style>\n",
       "<table border=\"1\" class=\"dataframe\">\n",
       "  <thead>\n",
       "    <tr style=\"text-align: right;\">\n",
       "      <th></th>\n",
       "      <th>director_name</th>\n",
       "      <th>duration</th>\n",
       "      <th>actor_2_name</th>\n",
       "      <th>gross</th>\n",
       "      <th>genres</th>\n",
       "      <th>actor_1_name</th>\n",
       "      <th>movie_title</th>\n",
       "      <th>num_voted_users</th>\n",
       "      <th>num_user_for_reviews</th>\n",
       "      <th>budget</th>\n",
       "      <th>title_year</th>\n",
       "      <th>imdb_score</th>\n",
       "    </tr>\n",
       "  </thead>\n",
       "  <tbody>\n",
       "    <tr>\n",
       "      <th>0</th>\n",
       "      <td>James Cameron</td>\n",
       "      <td>178.0</td>\n",
       "      <td>Joel David Moore</td>\n",
       "      <td>760505847.0</td>\n",
       "      <td>Action|Adventure|Fantasy|Sci-Fi</td>\n",
       "      <td>CCH Pounder</td>\n",
       "      <td>Avatar</td>\n",
       "      <td>886204</td>\n",
       "      <td>3054.0</td>\n",
       "      <td>237000000.0</td>\n",
       "      <td>2009.0</td>\n",
       "      <td>7.9</td>\n",
       "    </tr>\n",
       "    <tr>\n",
       "      <th>1</th>\n",
       "      <td>Gore Verbinski</td>\n",
       "      <td>169.0</td>\n",
       "      <td>Orlando Bloom</td>\n",
       "      <td>309404152.0</td>\n",
       "      <td>Action|Adventure|Fantasy</td>\n",
       "      <td>Johnny Depp</td>\n",
       "      <td>Pirates of the Caribbean: At World's End</td>\n",
       "      <td>471220</td>\n",
       "      <td>1238.0</td>\n",
       "      <td>300000000.0</td>\n",
       "      <td>2007.0</td>\n",
       "      <td>7.1</td>\n",
       "    </tr>\n",
       "    <tr>\n",
       "      <th>2</th>\n",
       "      <td>Sam Mendes</td>\n",
       "      <td>148.0</td>\n",
       "      <td>Rory Kinnear</td>\n",
       "      <td>200074175.0</td>\n",
       "      <td>Action|Adventure|Thriller</td>\n",
       "      <td>Christoph Waltz</td>\n",
       "      <td>Spectre</td>\n",
       "      <td>275868</td>\n",
       "      <td>994.0</td>\n",
       "      <td>245000000.0</td>\n",
       "      <td>2015.0</td>\n",
       "      <td>6.8</td>\n",
       "    </tr>\n",
       "    <tr>\n",
       "      <th>3</th>\n",
       "      <td>Christopher Nolan</td>\n",
       "      <td>164.0</td>\n",
       "      <td>Christian Bale</td>\n",
       "      <td>448130642.0</td>\n",
       "      <td>Action|Thriller</td>\n",
       "      <td>Tom Hardy</td>\n",
       "      <td>The Dark Knight Rises</td>\n",
       "      <td>1144337</td>\n",
       "      <td>2701.0</td>\n",
       "      <td>250000000.0</td>\n",
       "      <td>2012.0</td>\n",
       "      <td>8.5</td>\n",
       "    </tr>\n",
       "    <tr>\n",
       "      <th>4</th>\n",
       "      <td>Doug Walker</td>\n",
       "      <td>NaN</td>\n",
       "      <td>Rob Walker</td>\n",
       "      <td>NaN</td>\n",
       "      <td>Documentary</td>\n",
       "      <td>Doug Walker</td>\n",
       "      <td>Star Wars: Episode VII - The Force Awakens    ...</td>\n",
       "      <td>8</td>\n",
       "      <td>NaN</td>\n",
       "      <td>NaN</td>\n",
       "      <td>NaN</td>\n",
       "      <td>7.1</td>\n",
       "    </tr>\n",
       "  </tbody>\n",
       "</table>\n",
       "</div>"
      ],
      "text/plain": [
       "       director_name  duration      actor_2_name        gross  \\\n",
       "0      James Cameron     178.0  Joel David Moore  760505847.0   \n",
       "1     Gore Verbinski     169.0     Orlando Bloom  309404152.0   \n",
       "2         Sam Mendes     148.0      Rory Kinnear  200074175.0   \n",
       "3  Christopher Nolan     164.0    Christian Bale  448130642.0   \n",
       "4        Doug Walker       NaN        Rob Walker          NaN   \n",
       "\n",
       "                            genres     actor_1_name  \\\n",
       "0  Action|Adventure|Fantasy|Sci-Fi      CCH Pounder   \n",
       "1         Action|Adventure|Fantasy      Johnny Depp   \n",
       "2        Action|Adventure|Thriller  Christoph Waltz   \n",
       "3                  Action|Thriller        Tom Hardy   \n",
       "4                      Documentary      Doug Walker   \n",
       "\n",
       "                                         movie_title  num_voted_users  \\\n",
       "0                                            Avatar            886204   \n",
       "1          Pirates of the Caribbean: At World's End            471220   \n",
       "2                                           Spectre            275868   \n",
       "3                             The Dark Knight Rises           1144337   \n",
       "4  Star Wars: Episode VII - The Force Awakens    ...                8   \n",
       "\n",
       "   num_user_for_reviews       budget  title_year  imdb_score  \n",
       "0                3054.0  237000000.0      2009.0         7.9  \n",
       "1                1238.0  300000000.0      2007.0         7.1  \n",
       "2                 994.0  245000000.0      2015.0         6.8  \n",
       "3                2701.0  250000000.0      2012.0         8.5  \n",
       "4                   NaN          NaN         NaN         7.1  "
      ]
     },
     "execution_count": 445,
     "metadata": {},
     "output_type": "execute_result"
    }
   ],
   "source": [
    "df.drop(['color','num_critic_for_reviews','director_facebook_likes', 'actor_3_facebook_likes', 'actor_1_facebook_likes', 'cast_total_facebook_likes', 'actor_3_name', 'facenumber_in_poster',\n",
    "'plot_keywords', 'movie_imdb_link', 'language','country','content_rating','actor_2_facebook_likes','aspect_ratio','movie_facebook_likes'], axis=1, inplace=True)\n",
    "df.head()"
   ]
  },
  {
   "cell_type": "code",
   "execution_count": 446,
   "id": "d98e7857",
   "metadata": {},
   "outputs": [
    {
     "data": {
      "text/plain": [
       "47"
      ]
     },
     "execution_count": 446,
     "metadata": {},
     "output_type": "execute_result"
    }
   ],
   "source": [
    "sum(df.duplicated())#checks for the duplicates "
   ]
  },
  {
   "cell_type": "markdown",
   "id": "bb2b70ea",
   "metadata": {},
   "source": [
    "There are 47 duplicates entry, So lets drop all the duplicates"
   ]
  },
  {
   "cell_type": "code",
   "execution_count": 447,
   "id": "30aab0ae",
   "metadata": {},
   "outputs": [
    {
     "name": "stdout",
     "output_type": "stream",
     "text": [
      "0\n",
      "(4996, 12)\n"
     ]
    }
   ],
   "source": [
    "df.drop_duplicates(inplace=True)\n",
    "print(sum(df.duplicated()))\n",
    "print(df.shape)"
   ]
  },
  {
   "cell_type": "markdown",
   "id": "b26aaba0",
   "metadata": {},
   "source": [
    "Above results shows there is no duplicates, now lets clean the missing values"
   ]
  },
  {
   "cell_type": "code",
   "execution_count": 448,
   "id": "048a2e77",
   "metadata": {},
   "outputs": [
    {
     "data": {
      "text/plain": [
       "director_name           103\n",
       "duration                 15\n",
       "actor_2_name             13\n",
       "gross                   873\n",
       "genres                    0\n",
       "actor_1_name              7\n",
       "movie_title               0\n",
       "num_voted_users           0\n",
       "num_user_for_reviews     21\n",
       "budget                  486\n",
       "title_year              107\n",
       "imdb_score                0\n",
       "dtype: int64"
      ]
     },
     "execution_count": 448,
     "metadata": {},
     "output_type": "execute_result"
    }
   ],
   "source": [
    "df.isnull().sum()"
   ]
  },
  {
   "cell_type": "markdown",
   "id": "07ca59ef",
   "metadata": {},
   "source": [
    "Checking for null values by sorting the table by duration"
   ]
  },
  {
   "cell_type": "code",
   "execution_count": 449,
   "id": "ac9225ea",
   "metadata": {
    "scrolled": true
   },
   "outputs": [
    {
     "data": {
      "text/html": [
       "<div>\n",
       "<style scoped>\n",
       "    .dataframe tbody tr th:only-of-type {\n",
       "        vertical-align: middle;\n",
       "    }\n",
       "\n",
       "    .dataframe tbody tr th {\n",
       "        vertical-align: top;\n",
       "    }\n",
       "\n",
       "    .dataframe thead th {\n",
       "        text-align: right;\n",
       "    }\n",
       "</style>\n",
       "<table border=\"1\" class=\"dataframe\">\n",
       "  <thead>\n",
       "    <tr style=\"text-align: right;\">\n",
       "      <th></th>\n",
       "      <th>director_name</th>\n",
       "      <th>duration</th>\n",
       "      <th>actor_2_name</th>\n",
       "      <th>gross</th>\n",
       "      <th>genres</th>\n",
       "      <th>actor_1_name</th>\n",
       "      <th>movie_title</th>\n",
       "      <th>num_voted_users</th>\n",
       "      <th>num_user_for_reviews</th>\n",
       "      <th>budget</th>\n",
       "      <th>title_year</th>\n",
       "      <th>imdb_score</th>\n",
       "    </tr>\n",
       "  </thead>\n",
       "  <tbody>\n",
       "    <tr>\n",
       "      <th>1947</th>\n",
       "      <td>NaN</td>\n",
       "      <td>7.0</td>\n",
       "      <td>John Sparkes</td>\n",
       "      <td>NaN</td>\n",
       "      <td>Animation|Comedy|Family</td>\n",
       "      <td>Justin Fletcher</td>\n",
       "      <td>Shaun the Sheep</td>\n",
       "      <td>7968</td>\n",
       "      <td>12.0</td>\n",
       "      <td>NaN</td>\n",
       "      <td>NaN</td>\n",
       "      <td>8.3</td>\n",
       "    </tr>\n",
       "    <tr>\n",
       "      <th>2345</th>\n",
       "      <td>Jane Clark</td>\n",
       "      <td>7.0</td>\n",
       "      <td>Traci Dinwiddie</td>\n",
       "      <td>NaN</td>\n",
       "      <td>Romance|Short</td>\n",
       "      <td>Necar Zadegan</td>\n",
       "      <td>The Touch</td>\n",
       "      <td>118</td>\n",
       "      <td>NaN</td>\n",
       "      <td>13000.0</td>\n",
       "      <td>2007.0</td>\n",
       "      <td>5.2</td>\n",
       "    </tr>\n",
       "    <tr>\n",
       "      <th>4079</th>\n",
       "      <td>NaN</td>\n",
       "      <td>11.0</td>\n",
       "      <td>Seth Green</td>\n",
       "      <td>NaN</td>\n",
       "      <td>Animation|Comedy</td>\n",
       "      <td>Matthew Senreich</td>\n",
       "      <td>Robot Chicken</td>\n",
       "      <td>32923</td>\n",
       "      <td>75.0</td>\n",
       "      <td>NaN</td>\n",
       "      <td>NaN</td>\n",
       "      <td>7.8</td>\n",
       "    </tr>\n",
       "    <tr>\n",
       "      <th>4673</th>\n",
       "      <td>Clark Baker</td>\n",
       "      <td>14.0</td>\n",
       "      <td>Alan Pietruszewski</td>\n",
       "      <td>NaN</td>\n",
       "      <td>Horror|Sci-Fi|Short|Thriller</td>\n",
       "      <td>Taylor Pigeon</td>\n",
       "      <td>Vessel</td>\n",
       "      <td>292</td>\n",
       "      <td>3.0</td>\n",
       "      <td>NaN</td>\n",
       "      <td>2012.0</td>\n",
       "      <td>6.2</td>\n",
       "    </tr>\n",
       "    <tr>\n",
       "      <th>4439</th>\n",
       "      <td>Robert Greenwald</td>\n",
       "      <td>20.0</td>\n",
       "      <td>Jon Hunter</td>\n",
       "      <td>NaN</td>\n",
       "      <td>Documentary</td>\n",
       "      <td>Lee Scott</td>\n",
       "      <td>Wal-Mart: The High Cost of Low Price</td>\n",
       "      <td>4120</td>\n",
       "      <td>70.0</td>\n",
       "      <td>1500000.0</td>\n",
       "      <td>2005.0</td>\n",
       "      <td>6.8</td>\n",
       "    </tr>\n",
       "    <tr>\n",
       "      <th>...</th>\n",
       "      <td>...</td>\n",
       "      <td>...</td>\n",
       "      <td>...</td>\n",
       "      <td>...</td>\n",
       "      <td>...</td>\n",
       "      <td>...</td>\n",
       "      <td>...</td>\n",
       "      <td>...</td>\n",
       "      <td>...</td>\n",
       "      <td>...</td>\n",
       "      <td>...</td>\n",
       "      <td>...</td>\n",
       "    </tr>\n",
       "    <tr>\n",
       "      <th>4517</th>\n",
       "      <td>NaN</td>\n",
       "      <td>NaN</td>\n",
       "      <td>John Jarratt</td>\n",
       "      <td>NaN</td>\n",
       "      <td>Drama|Horror|Thriller</td>\n",
       "      <td>Richard Cawthorne</td>\n",
       "      <td>Wolf Creek</td>\n",
       "      <td>726</td>\n",
       "      <td>6.0</td>\n",
       "      <td>NaN</td>\n",
       "      <td>NaN</td>\n",
       "      <td>7.1</td>\n",
       "    </tr>\n",
       "    <tr>\n",
       "      <th>4609</th>\n",
       "      <td>Wajahat Rauf</td>\n",
       "      <td>NaN</td>\n",
       "      <td>Ayesha Omar</td>\n",
       "      <td>NaN</td>\n",
       "      <td>Comedy|Family</td>\n",
       "      <td>Rasheed Naz</td>\n",
       "      <td>Karachi se Lahore</td>\n",
       "      <td>876</td>\n",
       "      <td>15.0</td>\n",
       "      <td>1000000.0</td>\n",
       "      <td>2015.0</td>\n",
       "      <td>7.0</td>\n",
       "    </tr>\n",
       "    <tr>\n",
       "      <th>4690</th>\n",
       "      <td>Joseph Kosinski</td>\n",
       "      <td>NaN</td>\n",
       "      <td>Lauren Cohan</td>\n",
       "      <td>NaN</td>\n",
       "      <td>Action|Adventure|Fantasy|Sci-Fi</td>\n",
       "      <td>Peter Dinklage</td>\n",
       "      <td>Destiny</td>\n",
       "      <td>3089</td>\n",
       "      <td>11.0</td>\n",
       "      <td>NaN</td>\n",
       "      <td>2014.0</td>\n",
       "      <td>8.1</td>\n",
       "    </tr>\n",
       "    <tr>\n",
       "      <th>4948</th>\n",
       "      <td>Valentine</td>\n",
       "      <td>NaN</td>\n",
       "      <td>Valentine</td>\n",
       "      <td>NaN</td>\n",
       "      <td>Romance</td>\n",
       "      <td>Diane Sorrentino</td>\n",
       "      <td>Romantic Schemer</td>\n",
       "      <td>172</td>\n",
       "      <td>NaN</td>\n",
       "      <td>125000.0</td>\n",
       "      <td>2015.0</td>\n",
       "      <td>5.1</td>\n",
       "    </tr>\n",
       "    <tr>\n",
       "      <th>4989</th>\n",
       "      <td>Daniel Mellitz</td>\n",
       "      <td>NaN</td>\n",
       "      <td>Chelse Swain</td>\n",
       "      <td>NaN</td>\n",
       "      <td>Comedy|Drama</td>\n",
       "      <td>Corbin Bernsen</td>\n",
       "      <td>The Naked Ape</td>\n",
       "      <td>128</td>\n",
       "      <td>3.0</td>\n",
       "      <td>NaN</td>\n",
       "      <td>2006.0</td>\n",
       "      <td>4.7</td>\n",
       "    </tr>\n",
       "  </tbody>\n",
       "</table>\n",
       "<p>1146 rows × 12 columns</p>\n",
       "</div>"
      ],
      "text/plain": [
       "         director_name  duration        actor_2_name  gross  \\\n",
       "1947               NaN       7.0        John Sparkes    NaN   \n",
       "2345        Jane Clark       7.0     Traci Dinwiddie    NaN   \n",
       "4079               NaN      11.0          Seth Green    NaN   \n",
       "4673       Clark Baker      14.0  Alan Pietruszewski    NaN   \n",
       "4439  Robert Greenwald      20.0          Jon Hunter    NaN   \n",
       "...                ...       ...                 ...    ...   \n",
       "4517               NaN       NaN        John Jarratt    NaN   \n",
       "4609      Wajahat Rauf       NaN         Ayesha Omar    NaN   \n",
       "4690   Joseph Kosinski       NaN        Lauren Cohan    NaN   \n",
       "4948         Valentine       NaN           Valentine    NaN   \n",
       "4989    Daniel Mellitz       NaN        Chelse Swain    NaN   \n",
       "\n",
       "                               genres       actor_1_name  \\\n",
       "1947          Animation|Comedy|Family    Justin Fletcher   \n",
       "2345                    Romance|Short      Necar Zadegan   \n",
       "4079                 Animation|Comedy   Matthew Senreich   \n",
       "4673     Horror|Sci-Fi|Short|Thriller      Taylor Pigeon   \n",
       "4439                      Documentary          Lee Scott   \n",
       "...                               ...                ...   \n",
       "4517            Drama|Horror|Thriller  Richard Cawthorne   \n",
       "4609                    Comedy|Family        Rasheed Naz   \n",
       "4690  Action|Adventure|Fantasy|Sci-Fi     Peter Dinklage   \n",
       "4948                          Romance   Diane Sorrentino   \n",
       "4989                     Comedy|Drama     Corbin Bernsen   \n",
       "\n",
       "                                movie_title  num_voted_users  \\\n",
       "1947           Shaun the Sheep                          7968   \n",
       "2345                             The Touch               118   \n",
       "4079             Robot Chicken                         32923   \n",
       "4673                                Vessel               292   \n",
       "4439  Wal-Mart: The High Cost of Low Price              4120   \n",
       "...                                     ...              ...   \n",
       "4517                Wolf Creek                           726   \n",
       "4609                     Karachi se Lahore               876   \n",
       "4690                               Destiny              3089   \n",
       "4948                      Romantic Schemer               172   \n",
       "4989                         The Naked Ape               128   \n",
       "\n",
       "      num_user_for_reviews     budget  title_year  imdb_score  \n",
       "1947                  12.0        NaN         NaN         8.3  \n",
       "2345                   NaN    13000.0      2007.0         5.2  \n",
       "4079                  75.0        NaN         NaN         7.8  \n",
       "4673                   3.0        NaN      2012.0         6.2  \n",
       "4439                  70.0  1500000.0      2005.0         6.8  \n",
       "...                    ...        ...         ...         ...  \n",
       "4517                   6.0        NaN         NaN         7.1  \n",
       "4609                  15.0  1000000.0      2015.0         7.0  \n",
       "4690                  11.0        NaN      2014.0         8.1  \n",
       "4948                   NaN   125000.0      2015.0         5.1  \n",
       "4989                   3.0        NaN      2006.0         4.7  \n",
       "\n",
       "[1146 rows x 12 columns]"
      ]
     },
     "execution_count": 449,
     "metadata": {},
     "output_type": "execute_result"
    }
   ],
   "source": [
    "df[df.isnull().any(axis=1)].sort_values(['duration'], ascending=True)"
   ]
  },
  {
   "cell_type": "code",
   "execution_count": 450,
   "id": "09a35495",
   "metadata": {},
   "outputs": [
    {
     "name": "stdout",
     "output_type": "stream",
     "text": [
      "False\n",
      "<class 'pandas.core.frame.DataFrame'>\n",
      "Int64Index: 3850 entries, 0 to 5042\n",
      "Data columns (total 12 columns):\n",
      " #   Column                Non-Null Count  Dtype  \n",
      "---  ------                --------------  -----  \n",
      " 0   director_name         3850 non-null   object \n",
      " 1   duration              3850 non-null   float64\n",
      " 2   actor_2_name          3850 non-null   object \n",
      " 3   gross                 3850 non-null   float64\n",
      " 4   genres                3850 non-null   object \n",
      " 5   actor_1_name          3850 non-null   object \n",
      " 6   movie_title           3850 non-null   object \n",
      " 7   num_voted_users       3850 non-null   int64  \n",
      " 8   num_user_for_reviews  3850 non-null   float64\n",
      " 9   budget                3850 non-null   float64\n",
      " 10  title_year            3850 non-null   float64\n",
      " 11  imdb_score            3850 non-null   float64\n",
      "dtypes: float64(6), int64(1), object(5)\n",
      "memory usage: 391.0+ KB\n",
      "None\n"
     ]
    }
   ],
   "source": [
    "df.dropna(inplace=True)\n",
    "print(df.isnull().sum().any())\n",
    "print(df.info())"
   ]
  },
  {
   "cell_type": "markdown",
   "id": "5dc717ba",
   "metadata": {},
   "source": [
    "Droping the null values and filling all the NaN with mean values"
   ]
  },
  {
   "cell_type": "code",
   "execution_count": 451,
   "id": "bc3adf26",
   "metadata": {},
   "outputs": [],
   "source": [
    "df.fillna(df.mean(), inplace=True)"
   ]
  },
  {
   "cell_type": "markdown",
   "id": "ac13c7fd",
   "metadata": {},
   "source": [
    "Let's review popularity, number of votes, more closely printing all the reviews column by sorting it with Imdb score"
   ]
  },
  {
   "cell_type": "code",
   "execution_count": 452,
   "id": "ef8e9047",
   "metadata": {
    "scrolled": true
   },
   "outputs": [
    {
     "data": {
      "text/html": [
       "<div>\n",
       "<style scoped>\n",
       "    .dataframe tbody tr th:only-of-type {\n",
       "        vertical-align: middle;\n",
       "    }\n",
       "\n",
       "    .dataframe tbody tr th {\n",
       "        vertical-align: top;\n",
       "    }\n",
       "\n",
       "    .dataframe thead th {\n",
       "        text-align: right;\n",
       "    }\n",
       "</style>\n",
       "<table border=\"1\" class=\"dataframe\">\n",
       "  <thead>\n",
       "    <tr style=\"text-align: right;\">\n",
       "      <th></th>\n",
       "      <th>movie_title</th>\n",
       "      <th>imdb_score</th>\n",
       "      <th>num_voted_users</th>\n",
       "      <th>num_user_for_reviews</th>\n",
       "    </tr>\n",
       "  </thead>\n",
       "  <tbody>\n",
       "    <tr>\n",
       "      <th>3340</th>\n",
       "      <td>Glitter</td>\n",
       "      <td>2.1</td>\n",
       "      <td>19412</td>\n",
       "      <td>308.0</td>\n",
       "    </tr>\n",
       "    <tr>\n",
       "      <th>3505</th>\n",
       "      <td>Who's Your Caddy?</td>\n",
       "      <td>2.0</td>\n",
       "      <td>13815</td>\n",
       "      <td>46.0</td>\n",
       "    </tr>\n",
       "    <tr>\n",
       "      <th>2295</th>\n",
       "      <td>Superbabies: Baby Geniuses 2</td>\n",
       "      <td>1.9</td>\n",
       "      <td>25371</td>\n",
       "      <td>129.0</td>\n",
       "    </tr>\n",
       "    <tr>\n",
       "      <th>2268</th>\n",
       "      <td>Disaster Movie</td>\n",
       "      <td>1.9</td>\n",
       "      <td>74945</td>\n",
       "      <td>359.0</td>\n",
       "    </tr>\n",
       "    <tr>\n",
       "      <th>2834</th>\n",
       "      <td>Justin Bieber: Never Say Never</td>\n",
       "      <td>1.6</td>\n",
       "      <td>74351</td>\n",
       "      <td>233.0</td>\n",
       "    </tr>\n",
       "  </tbody>\n",
       "</table>\n",
       "</div>"
      ],
      "text/plain": [
       "                          movie_title  imdb_score  num_voted_users  \\\n",
       "3340                         Glitter          2.1            19412   \n",
       "3505               Who's Your Caddy?          2.0            13815   \n",
       "2295    Superbabies: Baby Geniuses 2          1.9            25371   \n",
       "2268                  Disaster Movie          1.9            74945   \n",
       "2834  Justin Bieber: Never Say Never          1.6            74351   \n",
       "\n",
       "      num_user_for_reviews  \n",
       "3340                 308.0  \n",
       "3505                  46.0  \n",
       "2295                 129.0  \n",
       "2268                 359.0  \n",
       "2834                 233.0  "
      ]
     },
     "execution_count": 452,
     "metadata": {},
     "output_type": "execute_result"
    }
   ],
   "source": [
    "df[['movie_title','imdb_score', 'num_voted_users', 'num_user_for_reviews']].sort_values('imdb_score', ascending=False).tail()"
   ]
  },
  {
   "cell_type": "markdown",
   "id": "48fa362f",
   "metadata": {},
   "source": [
    "Let's create the prfoit column by subtracting gross and budget, neglect all the negetive values"
   ]
  },
  {
   "cell_type": "code",
   "execution_count": 453,
   "id": "53595855",
   "metadata": {},
   "outputs": [
    {
     "data": {
      "text/html": [
       "<div>\n",
       "<style scoped>\n",
       "    .dataframe tbody tr th:only-of-type {\n",
       "        vertical-align: middle;\n",
       "    }\n",
       "\n",
       "    .dataframe tbody tr th {\n",
       "        vertical-align: top;\n",
       "    }\n",
       "\n",
       "    .dataframe thead th {\n",
       "        text-align: right;\n",
       "    }\n",
       "</style>\n",
       "<table border=\"1\" class=\"dataframe\">\n",
       "  <thead>\n",
       "    <tr style=\"text-align: right;\">\n",
       "      <th></th>\n",
       "      <th>director_name</th>\n",
       "      <th>duration</th>\n",
       "      <th>actor_2_name</th>\n",
       "      <th>gross</th>\n",
       "      <th>genres</th>\n",
       "      <th>actor_1_name</th>\n",
       "      <th>movie_title</th>\n",
       "      <th>num_voted_users</th>\n",
       "      <th>num_user_for_reviews</th>\n",
       "      <th>budget</th>\n",
       "      <th>title_year</th>\n",
       "      <th>imdb_score</th>\n",
       "      <th>profit</th>\n",
       "    </tr>\n",
       "  </thead>\n",
       "  <tbody>\n",
       "    <tr>\n",
       "      <th>0</th>\n",
       "      <td>James Cameron</td>\n",
       "      <td>178.0</td>\n",
       "      <td>Joel David Moore</td>\n",
       "      <td>760505847.0</td>\n",
       "      <td>Action|Adventure|Fantasy|Sci-Fi</td>\n",
       "      <td>CCH Pounder</td>\n",
       "      <td>Avatar</td>\n",
       "      <td>886204</td>\n",
       "      <td>3054.0</td>\n",
       "      <td>237000000.0</td>\n",
       "      <td>2009.0</td>\n",
       "      <td>7.9</td>\n",
       "      <td>523505847.0</td>\n",
       "    </tr>\n",
       "    <tr>\n",
       "      <th>1</th>\n",
       "      <td>Gore Verbinski</td>\n",
       "      <td>169.0</td>\n",
       "      <td>Orlando Bloom</td>\n",
       "      <td>309404152.0</td>\n",
       "      <td>Action|Adventure|Fantasy</td>\n",
       "      <td>Johnny Depp</td>\n",
       "      <td>Pirates of the Caribbean: At World's End</td>\n",
       "      <td>471220</td>\n",
       "      <td>1238.0</td>\n",
       "      <td>300000000.0</td>\n",
       "      <td>2007.0</td>\n",
       "      <td>7.1</td>\n",
       "      <td>9404152.0</td>\n",
       "    </tr>\n",
       "    <tr>\n",
       "      <th>2</th>\n",
       "      <td>Sam Mendes</td>\n",
       "      <td>148.0</td>\n",
       "      <td>Rory Kinnear</td>\n",
       "      <td>200074175.0</td>\n",
       "      <td>Action|Adventure|Thriller</td>\n",
       "      <td>Christoph Waltz</td>\n",
       "      <td>Spectre</td>\n",
       "      <td>275868</td>\n",
       "      <td>994.0</td>\n",
       "      <td>245000000.0</td>\n",
       "      <td>2015.0</td>\n",
       "      <td>6.8</td>\n",
       "      <td>0.0</td>\n",
       "    </tr>\n",
       "    <tr>\n",
       "      <th>3</th>\n",
       "      <td>Christopher Nolan</td>\n",
       "      <td>164.0</td>\n",
       "      <td>Christian Bale</td>\n",
       "      <td>448130642.0</td>\n",
       "      <td>Action|Thriller</td>\n",
       "      <td>Tom Hardy</td>\n",
       "      <td>The Dark Knight Rises</td>\n",
       "      <td>1144337</td>\n",
       "      <td>2701.0</td>\n",
       "      <td>250000000.0</td>\n",
       "      <td>2012.0</td>\n",
       "      <td>8.5</td>\n",
       "      <td>198130642.0</td>\n",
       "    </tr>\n",
       "    <tr>\n",
       "      <th>5</th>\n",
       "      <td>Andrew Stanton</td>\n",
       "      <td>132.0</td>\n",
       "      <td>Samantha Morton</td>\n",
       "      <td>73058679.0</td>\n",
       "      <td>Action|Adventure|Sci-Fi</td>\n",
       "      <td>Daryl Sabara</td>\n",
       "      <td>John Carter</td>\n",
       "      <td>212204</td>\n",
       "      <td>738.0</td>\n",
       "      <td>263700000.0</td>\n",
       "      <td>2012.0</td>\n",
       "      <td>6.6</td>\n",
       "      <td>0.0</td>\n",
       "    </tr>\n",
       "  </tbody>\n",
       "</table>\n",
       "</div>"
      ],
      "text/plain": [
       "       director_name  duration      actor_2_name        gross  \\\n",
       "0      James Cameron     178.0  Joel David Moore  760505847.0   \n",
       "1     Gore Verbinski     169.0     Orlando Bloom  309404152.0   \n",
       "2         Sam Mendes     148.0      Rory Kinnear  200074175.0   \n",
       "3  Christopher Nolan     164.0    Christian Bale  448130642.0   \n",
       "5     Andrew Stanton     132.0   Samantha Morton   73058679.0   \n",
       "\n",
       "                            genres     actor_1_name  \\\n",
       "0  Action|Adventure|Fantasy|Sci-Fi      CCH Pounder   \n",
       "1         Action|Adventure|Fantasy      Johnny Depp   \n",
       "2        Action|Adventure|Thriller  Christoph Waltz   \n",
       "3                  Action|Thriller        Tom Hardy   \n",
       "5          Action|Adventure|Sci-Fi     Daryl Sabara   \n",
       "\n",
       "                                 movie_title  num_voted_users  \\\n",
       "0                                    Avatar            886204   \n",
       "1  Pirates of the Caribbean: At World's End            471220   \n",
       "2                                   Spectre            275868   \n",
       "3                     The Dark Knight Rises           1144337   \n",
       "5                               John Carter            212204   \n",
       "\n",
       "   num_user_for_reviews       budget  title_year  imdb_score       profit  \n",
       "0                3054.0  237000000.0      2009.0         7.9  523505847.0  \n",
       "1                1238.0  300000000.0      2007.0         7.1    9404152.0  \n",
       "2                 994.0  245000000.0      2015.0         6.8          0.0  \n",
       "3                2701.0  250000000.0      2012.0         8.5  198130642.0  \n",
       "5                 738.0  263700000.0      2012.0         6.6          0.0  "
      ]
     },
     "execution_count": 453,
     "metadata": {},
     "output_type": "execute_result"
    }
   ],
   "source": [
    "df['profit'] = df['gross'] - df['budget']\n",
    "df.loc[df['profit'] < 0, 'profit'] = 0\n",
    "df.head()"
   ]
  },
  {
   "cell_type": "markdown",
   "id": "74de25fa",
   "metadata": {},
   "source": [
    "Now that we have profit column, we can create a profitability ratio column.\n",
    "I'll adjust for non-zero division by adding .0001 to the denominator.converting the\n",
    "column from float to integer so we have non-decimal values ranging from 1-100."
   ]
  },
  {
   "cell_type": "code",
   "execution_count": 454,
   "id": "150f0889",
   "metadata": {},
   "outputs": [
    {
     "data": {
      "text/html": [
       "<div>\n",
       "<style scoped>\n",
       "    .dataframe tbody tr th:only-of-type {\n",
       "        vertical-align: middle;\n",
       "    }\n",
       "\n",
       "    .dataframe tbody tr th {\n",
       "        vertical-align: top;\n",
       "    }\n",
       "\n",
       "    .dataframe thead th {\n",
       "        text-align: right;\n",
       "    }\n",
       "</style>\n",
       "<table border=\"1\" class=\"dataframe\">\n",
       "  <thead>\n",
       "    <tr style=\"text-align: right;\">\n",
       "      <th></th>\n",
       "      <th>director_name</th>\n",
       "      <th>duration</th>\n",
       "      <th>actor_2_name</th>\n",
       "      <th>gross</th>\n",
       "      <th>genres</th>\n",
       "      <th>actor_1_name</th>\n",
       "      <th>movie_title</th>\n",
       "      <th>num_voted_users</th>\n",
       "      <th>num_user_for_reviews</th>\n",
       "      <th>budget</th>\n",
       "      <th>title_year</th>\n",
       "      <th>imdb_score</th>\n",
       "      <th>profit</th>\n",
       "      <th>profitability_ratio</th>\n",
       "    </tr>\n",
       "  </thead>\n",
       "  <tbody>\n",
       "    <tr>\n",
       "      <th>2273</th>\n",
       "      <td>Barry Levinson</td>\n",
       "      <td>99.0</td>\n",
       "      <td>Ariel Gade</td>\n",
       "      <td>12181484.0</td>\n",
       "      <td>Comedy</td>\n",
       "      <td>Amy Poehler</td>\n",
       "      <td>Envy</td>\n",
       "      <td>26390</td>\n",
       "      <td>176.0</td>\n",
       "      <td>40000000.0</td>\n",
       "      <td>2004.0</td>\n",
       "      <td>4.8</td>\n",
       "      <td>0.0</td>\n",
       "      <td>0</td>\n",
       "    </tr>\n",
       "    <tr>\n",
       "      <th>2272</th>\n",
       "      <td>James Mather</td>\n",
       "      <td>95.0</td>\n",
       "      <td>Vincent Regan</td>\n",
       "      <td>14291570.0</td>\n",
       "      <td>Action|Adventure|Sci-Fi|Thriller</td>\n",
       "      <td>Joseph Gilgun</td>\n",
       "      <td>Lockout</td>\n",
       "      <td>82082</td>\n",
       "      <td>236.0</td>\n",
       "      <td>20000000.0</td>\n",
       "      <td>2012.0</td>\n",
       "      <td>6.1</td>\n",
       "      <td>0.0</td>\n",
       "      <td>0</td>\n",
       "    </tr>\n",
       "    <tr>\n",
       "      <th>2271</th>\n",
       "      <td>Mark Mylod</td>\n",
       "      <td>117.0</td>\n",
       "      <td>Ari Graynor</td>\n",
       "      <td>13987482.0</td>\n",
       "      <td>Comedy|Romance</td>\n",
       "      <td>Chris Evans</td>\n",
       "      <td>What's Your Number?</td>\n",
       "      <td>58957</td>\n",
       "      <td>91.0</td>\n",
       "      <td>20000000.0</td>\n",
       "      <td>2011.0</td>\n",
       "      <td>6.0</td>\n",
       "      <td>0.0</td>\n",
       "      <td>0</td>\n",
       "    </tr>\n",
       "    <tr>\n",
       "      <th>2270</th>\n",
       "      <td>Jon Amiel</td>\n",
       "      <td>94.0</td>\n",
       "      <td>Peter Gallagher</td>\n",
       "      <td>13801755.0</td>\n",
       "      <td>Action|Comedy|Crime|Thriller</td>\n",
       "      <td>Bill Murray</td>\n",
       "      <td>The Man Who Knew Too Little</td>\n",
       "      <td>23928</td>\n",
       "      <td>100.0</td>\n",
       "      <td>20000000.0</td>\n",
       "      <td>1997.0</td>\n",
       "      <td>6.6</td>\n",
       "      <td>0.0</td>\n",
       "      <td>0</td>\n",
       "    </tr>\n",
       "    <tr>\n",
       "      <th>2460</th>\n",
       "      <td>Michael Haneke</td>\n",
       "      <td>144.0</td>\n",
       "      <td>Burghart Klaußner</td>\n",
       "      <td>2222647.0</td>\n",
       "      <td>Drama|Mystery</td>\n",
       "      <td>Ulrich Tukur</td>\n",
       "      <td>The White Ribbon</td>\n",
       "      <td>52958</td>\n",
       "      <td>193.0</td>\n",
       "      <td>12000000.0</td>\n",
       "      <td>2009.0</td>\n",
       "      <td>7.8</td>\n",
       "      <td>0.0</td>\n",
       "      <td>0</td>\n",
       "    </tr>\n",
       "  </tbody>\n",
       "</table>\n",
       "</div>"
      ],
      "text/plain": [
       "       director_name  duration       actor_2_name       gross  \\\n",
       "2273  Barry Levinson      99.0         Ariel Gade  12181484.0   \n",
       "2272    James Mather      95.0      Vincent Regan  14291570.0   \n",
       "2271      Mark Mylod     117.0        Ari Graynor  13987482.0   \n",
       "2270       Jon Amiel      94.0    Peter Gallagher  13801755.0   \n",
       "2460  Michael Haneke     144.0  Burghart Klaußner   2222647.0   \n",
       "\n",
       "                                genres   actor_1_name  \\\n",
       "2273                            Comedy    Amy Poehler   \n",
       "2272  Action|Adventure|Sci-Fi|Thriller  Joseph Gilgun   \n",
       "2271                    Comedy|Romance    Chris Evans   \n",
       "2270      Action|Comedy|Crime|Thriller    Bill Murray   \n",
       "2460                     Drama|Mystery   Ulrich Tukur   \n",
       "\n",
       "                       movie_title  num_voted_users  num_user_for_reviews  \\\n",
       "2273                         Envy             26390                 176.0   \n",
       "2272                      Lockout             82082                 236.0   \n",
       "2271          What's Your Number?             58957                  91.0   \n",
       "2270  The Man Who Knew Too Little             23928                 100.0   \n",
       "2460             The White Ribbon             52958                 193.0   \n",
       "\n",
       "          budget  title_year  imdb_score  profit  profitability_ratio  \n",
       "2273  40000000.0      2004.0         4.8     0.0                    0  \n",
       "2272  20000000.0      2012.0         6.1     0.0                    0  \n",
       "2271  20000000.0      2011.0         6.0     0.0                    0  \n",
       "2270  20000000.0      1997.0         6.6     0.0                    0  \n",
       "2460  12000000.0      2009.0         7.8     0.0                    0  "
      ]
     },
     "execution_count": 454,
     "metadata": {},
     "output_type": "execute_result"
    }
   ],
   "source": [
    "df['profitability_ratio'] = (df['profit'] / (df['gross'] + .0001)) * 100\n",
    "df['profitability_ratio'] = df['profitability_ratio'].astype(int)\n",
    "df.sort_values(['profitability_ratio'], ascending=False).tail()"
   ]
  },
  {
   "cell_type": "code",
   "execution_count": 455,
   "id": "da47fcef",
   "metadata": {},
   "outputs": [
    {
     "name": "stdout",
     "output_type": "stream",
     "text": [
      "100\n"
     ]
    }
   ],
   "source": [
    " print(df['profitability_ratio'].nunique())"
   ]
  },
  {
   "cell_type": "code",
   "execution_count": 456,
   "id": "f67cb93d",
   "metadata": {},
   "outputs": [
    {
     "name": "stdout",
     "output_type": "stream",
     "text": [
      "100\n"
     ]
    }
   ],
   "source": [
    "df.loc[df['profitability_ratio'] < 0, 'profitability_ratio'] = 0 #To remove all the negetive numbers\n",
    "print(df['profitability_ratio'].nunique())"
   ]
  },
  {
   "cell_type": "markdown",
   "id": "0a88da87",
   "metadata": {},
   "source": [
    "create a new column, revenue_rating, to splice the\n",
    "revenue column into groups: low (under a million), mediun (millions), and high (billions)."
   ]
  },
  {
   "cell_type": "code",
   "execution_count": 457,
   "id": "4696687e",
   "metadata": {},
   "outputs": [
    {
     "data": {
      "text/html": [
       "<div>\n",
       "<style scoped>\n",
       "    .dataframe tbody tr th:only-of-type {\n",
       "        vertical-align: middle;\n",
       "    }\n",
       "\n",
       "    .dataframe tbody tr th {\n",
       "        vertical-align: top;\n",
       "    }\n",
       "\n",
       "    .dataframe thead th {\n",
       "        text-align: right;\n",
       "    }\n",
       "</style>\n",
       "<table border=\"1\" class=\"dataframe\">\n",
       "  <thead>\n",
       "    <tr style=\"text-align: right;\">\n",
       "      <th></th>\n",
       "      <th>director_name</th>\n",
       "      <th>duration</th>\n",
       "      <th>actor_2_name</th>\n",
       "      <th>gross</th>\n",
       "      <th>genres</th>\n",
       "      <th>actor_1_name</th>\n",
       "      <th>movie_title</th>\n",
       "      <th>num_voted_users</th>\n",
       "      <th>num_user_for_reviews</th>\n",
       "      <th>budget</th>\n",
       "      <th>title_year</th>\n",
       "      <th>imdb_score</th>\n",
       "      <th>profit</th>\n",
       "      <th>profitability_ratio</th>\n",
       "      <th>revenue_rating</th>\n",
       "    </tr>\n",
       "  </thead>\n",
       "  <tbody>\n",
       "    <tr>\n",
       "      <th>0</th>\n",
       "      <td>James Cameron</td>\n",
       "      <td>178.0</td>\n",
       "      <td>Joel David Moore</td>\n",
       "      <td>760505847.0</td>\n",
       "      <td>Action|Adventure|Fantasy|Sci-Fi</td>\n",
       "      <td>CCH Pounder</td>\n",
       "      <td>Avatar</td>\n",
       "      <td>886204</td>\n",
       "      <td>3054.0</td>\n",
       "      <td>237000000.0</td>\n",
       "      <td>2009.0</td>\n",
       "      <td>7.9</td>\n",
       "      <td>523505847.0</td>\n",
       "      <td>68</td>\n",
       "      <td>millions</td>\n",
       "    </tr>\n",
       "    <tr>\n",
       "      <th>1</th>\n",
       "      <td>Gore Verbinski</td>\n",
       "      <td>169.0</td>\n",
       "      <td>Orlando Bloom</td>\n",
       "      <td>309404152.0</td>\n",
       "      <td>Action|Adventure|Fantasy</td>\n",
       "      <td>Johnny Depp</td>\n",
       "      <td>Pirates of the Caribbean: At World's End</td>\n",
       "      <td>471220</td>\n",
       "      <td>1238.0</td>\n",
       "      <td>300000000.0</td>\n",
       "      <td>2007.0</td>\n",
       "      <td>7.1</td>\n",
       "      <td>9404152.0</td>\n",
       "      <td>3</td>\n",
       "      <td>millions</td>\n",
       "    </tr>\n",
       "    <tr>\n",
       "      <th>2</th>\n",
       "      <td>Sam Mendes</td>\n",
       "      <td>148.0</td>\n",
       "      <td>Rory Kinnear</td>\n",
       "      <td>200074175.0</td>\n",
       "      <td>Action|Adventure|Thriller</td>\n",
       "      <td>Christoph Waltz</td>\n",
       "      <td>Spectre</td>\n",
       "      <td>275868</td>\n",
       "      <td>994.0</td>\n",
       "      <td>245000000.0</td>\n",
       "      <td>2015.0</td>\n",
       "      <td>6.8</td>\n",
       "      <td>0.0</td>\n",
       "      <td>0</td>\n",
       "      <td>millions</td>\n",
       "    </tr>\n",
       "    <tr>\n",
       "      <th>3</th>\n",
       "      <td>Christopher Nolan</td>\n",
       "      <td>164.0</td>\n",
       "      <td>Christian Bale</td>\n",
       "      <td>448130642.0</td>\n",
       "      <td>Action|Thriller</td>\n",
       "      <td>Tom Hardy</td>\n",
       "      <td>The Dark Knight Rises</td>\n",
       "      <td>1144337</td>\n",
       "      <td>2701.0</td>\n",
       "      <td>250000000.0</td>\n",
       "      <td>2012.0</td>\n",
       "      <td>8.5</td>\n",
       "      <td>198130642.0</td>\n",
       "      <td>44</td>\n",
       "      <td>millions</td>\n",
       "    </tr>\n",
       "    <tr>\n",
       "      <th>5</th>\n",
       "      <td>Andrew Stanton</td>\n",
       "      <td>132.0</td>\n",
       "      <td>Samantha Morton</td>\n",
       "      <td>73058679.0</td>\n",
       "      <td>Action|Adventure|Sci-Fi</td>\n",
       "      <td>Daryl Sabara</td>\n",
       "      <td>John Carter</td>\n",
       "      <td>212204</td>\n",
       "      <td>738.0</td>\n",
       "      <td>263700000.0</td>\n",
       "      <td>2012.0</td>\n",
       "      <td>6.6</td>\n",
       "      <td>0.0</td>\n",
       "      <td>0</td>\n",
       "      <td>millions</td>\n",
       "    </tr>\n",
       "  </tbody>\n",
       "</table>\n",
       "</div>"
      ],
      "text/plain": [
       "       director_name  duration      actor_2_name        gross  \\\n",
       "0      James Cameron     178.0  Joel David Moore  760505847.0   \n",
       "1     Gore Verbinski     169.0     Orlando Bloom  309404152.0   \n",
       "2         Sam Mendes     148.0      Rory Kinnear  200074175.0   \n",
       "3  Christopher Nolan     164.0    Christian Bale  448130642.0   \n",
       "5     Andrew Stanton     132.0   Samantha Morton   73058679.0   \n",
       "\n",
       "                            genres     actor_1_name  \\\n",
       "0  Action|Adventure|Fantasy|Sci-Fi      CCH Pounder   \n",
       "1         Action|Adventure|Fantasy      Johnny Depp   \n",
       "2        Action|Adventure|Thriller  Christoph Waltz   \n",
       "3                  Action|Thriller        Tom Hardy   \n",
       "5          Action|Adventure|Sci-Fi     Daryl Sabara   \n",
       "\n",
       "                                 movie_title  num_voted_users  \\\n",
       "0                                    Avatar            886204   \n",
       "1  Pirates of the Caribbean: At World's End            471220   \n",
       "2                                   Spectre            275868   \n",
       "3                     The Dark Knight Rises           1144337   \n",
       "5                               John Carter            212204   \n",
       "\n",
       "   num_user_for_reviews       budget  title_year  imdb_score       profit  \\\n",
       "0                3054.0  237000000.0      2009.0         7.9  523505847.0   \n",
       "1                1238.0  300000000.0      2007.0         7.1    9404152.0   \n",
       "2                 994.0  245000000.0      2015.0         6.8          0.0   \n",
       "3                2701.0  250000000.0      2012.0         8.5  198130642.0   \n",
       "5                 738.0  263700000.0      2012.0         6.6          0.0   \n",
       "\n",
       "   profitability_ratio revenue_rating  \n",
       "0                   68       millions  \n",
       "1                    3       millions  \n",
       "2                    0       millions  \n",
       "3                   44       millions  \n",
       "5                    0       millions  "
      ]
     },
     "execution_count": 457,
     "metadata": {},
     "output_type": "execute_result"
    }
   ],
   "source": [
    "bin_edges = [0, 1e+06, 1e+09, 2.827124e+09]\n",
    "bin_names = ['under_million', 'millions', 'billions']\n",
    "df['revenue_rating'] = pd.cut(df['gross'], bin_edges, labels=bin_names)\n",
    "df.head()"
   ]
  },
  {
   "cell_type": "code",
   "execution_count": 458,
   "id": "009afb29",
   "metadata": {},
   "outputs": [
    {
     "data": {
      "text/plain": [
       "millions         3397\n",
       "under_million     453\n",
       "billions            0\n",
       "Name: revenue_rating, dtype: int64"
      ]
     },
     "execution_count": 458,
     "metadata": {},
     "output_type": "execute_result"
    }
   ],
   "source": [
    "df['revenue_rating'].value_counts()#counting the total ratings"
   ]
  },
  {
   "cell_type": "code",
   "execution_count": 459,
   "id": "13e2ecb2",
   "metadata": {},
   "outputs": [
    {
     "data": {
      "text/plain": [
       "director_name           0\n",
       "duration                0\n",
       "actor_2_name            0\n",
       "gross                   0\n",
       "genres                  0\n",
       "actor_1_name            0\n",
       "movie_title             0\n",
       "num_voted_users         0\n",
       "num_user_for_reviews    0\n",
       "budget                  0\n",
       "title_year              0\n",
       "imdb_score              0\n",
       "profit                  0\n",
       "profitability_ratio     0\n",
       "revenue_rating          0\n",
       "dtype: int64"
      ]
     },
     "execution_count": 459,
     "metadata": {},
     "output_type": "execute_result"
    }
   ],
   "source": [
    "df.isnull().sum()#checking for null values"
   ]
  },
  {
   "cell_type": "code",
   "execution_count": 460,
   "id": "3f892c86",
   "metadata": {},
   "outputs": [
    {
     "name": "stdout",
     "output_type": "stream",
     "text": [
      "<class 'pandas.core.frame.DataFrame'>\n",
      "Int64Index: 3850 entries, 0 to 5042\n",
      "Data columns (total 15 columns):\n",
      " #   Column                Non-Null Count  Dtype   \n",
      "---  ------                --------------  -----   \n",
      " 0   director_name         3850 non-null   object  \n",
      " 1   duration              3850 non-null   float64 \n",
      " 2   actor_2_name          3850 non-null   object  \n",
      " 3   gross                 3850 non-null   float64 \n",
      " 4   genres                3850 non-null   object  \n",
      " 5   actor_1_name          3850 non-null   object  \n",
      " 6   movie_title           3850 non-null   object  \n",
      " 7   num_voted_users       3850 non-null   int64   \n",
      " 8   num_user_for_reviews  3850 non-null   float64 \n",
      " 9   budget                3850 non-null   float64 \n",
      " 10  title_year            3850 non-null   float64 \n",
      " 11  imdb_score            3850 non-null   float64 \n",
      " 12  profit                3850 non-null   float64 \n",
      " 13  profitability_ratio   3850 non-null   int64   \n",
      " 14  revenue_rating        3850 non-null   category\n",
      "dtypes: category(1), float64(7), int64(2), object(5)\n",
      "memory usage: 455.1+ KB\n"
     ]
    },
    {
     "data": {
      "text/plain": [
       "(3850, 15)"
      ]
     },
     "execution_count": 460,
     "metadata": {},
     "output_type": "execute_result"
    }
   ],
   "source": [
    "df.revenue_rating.fillna('under_million', inplace=True)# filling all the NaN values with under million\n",
    "df.info() \n",
    "df.shape"
   ]
  },
  {
   "cell_type": "markdown",
   "id": "7e4495f5",
   "metadata": {},
   "source": [
    "Let's now deal with the columns that have multiple values per cell, starting with genres. I'll\n",
    "create separate dataframes for each: genres, cast, and director, in case we want the original df\n",
    "intact. Slpiting the genres to seperate genres to identify the movie based on genres."
   ]
  },
  {
   "cell_type": "code",
   "execution_count": 461,
   "id": "1dab841a",
   "metadata": {},
   "outputs": [
    {
     "data": {
      "text/plain": [
       "762"
      ]
     },
     "execution_count": 461,
     "metadata": {},
     "output_type": "execute_result"
    }
   ],
   "source": [
    "df['genres'].str.contains('|')\n",
    "df['genres'].nunique()"
   ]
  },
  {
   "cell_type": "markdown",
   "id": "db35670c",
   "metadata": {},
   "source": [
    "I want to split up the genres column cells so we can tally each genre individually. Next I'll remove\n",
    "the 'genres' column (with multiple values) and replace it with a 'genre' column (with single\n",
    "values). Then I'll make sure that there is a new row for each genre, so there will be\n",
    "multiple rows with the same movie_title."
   ]
  },
  {
   "cell_type": "code",
   "execution_count": 462,
   "id": "0d4b0b84",
   "metadata": {},
   "outputs": [],
   "source": [
    "df_split_genre = df.copy()\n",
    "split_genre = df_split_genre['genres'].str.split('|').apply(pd.Series, 1).stack().reset_index(level=1, drop=True)\n",
    "split_genre.name = 'genre_split'\n",
    "df_split_genre = df_split_genre.drop(['genres'], axis=1).join(split_genre)"
   ]
  },
  {
   "cell_type": "markdown",
   "id": "6dc73b97",
   "metadata": {},
   "source": [
    "Let's check to make sure that the new genre column contains only single values."
   ]
  },
  {
   "cell_type": "code",
   "execution_count": 463,
   "id": "fa649090",
   "metadata": {},
   "outputs": [
    {
     "data": {
      "text/plain": [
       "array(['Action', 'Adventure', 'Fantasy', 'Sci-Fi', 'Thriller', 'Romance',\n",
       "       'Animation', 'Comedy', 'Family', 'Musical', 'Mystery', 'Western',\n",
       "       'Drama', 'History', 'Sport', 'Crime', 'Horror', 'War', 'Biography',\n",
       "       'Music', 'Documentary', 'Short', 'Film-Noir'], dtype=object)"
      ]
     },
     "execution_count": 463,
     "metadata": {},
     "output_type": "execute_result"
    }
   ],
   "source": [
    "df_split_genre['genre_split'].unique()"
   ]
  },
  {
   "cell_type": "markdown",
   "id": "f51fb0f2",
   "metadata": {},
   "source": []
  },
  {
   "cell_type": "code",
   "execution_count": 464,
   "id": "4ea92731",
   "metadata": {},
   "outputs": [
    {
     "name": "stdout",
     "output_type": "stream",
     "text": [
      "<class 'pandas.core.frame.DataFrame'>\n",
      "Int64Index: 11435 entries, 0 to 5042\n",
      "Data columns (total 15 columns):\n",
      " #   Column                Non-Null Count  Dtype   \n",
      "---  ------                --------------  -----   \n",
      " 0   director_name         11435 non-null  object  \n",
      " 1   duration              11435 non-null  float64 \n",
      " 2   actor_2_name          11435 non-null  object  \n",
      " 3   gross                 11435 non-null  float64 \n",
      " 4   actor_1_name          11435 non-null  object  \n",
      " 5   movie_title           11435 non-null  object  \n",
      " 6   num_voted_users       11435 non-null  int64   \n",
      " 7   num_user_for_reviews  11435 non-null  float64 \n",
      " 8   budget                11435 non-null  float64 \n",
      " 9   title_year            11435 non-null  float64 \n",
      " 10  imdb_score            11435 non-null  float64 \n",
      " 11  profit                11435 non-null  float64 \n",
      " 12  profitability_ratio   11435 non-null  int64   \n",
      " 13  revenue_rating        11435 non-null  category\n",
      " 14  genre_split           11435 non-null  object  \n",
      "dtypes: category(1), float64(7), int64(2), object(5)\n",
      "memory usage: 1.3+ MB\n",
      "None\n",
      "(11435, 15)\n",
      "0\n"
     ]
    }
   ],
   "source": [
    "print(df_split_genre.info())\n",
    "print(df_split_genre.shape)\n",
    "print(sum(df_split_genre.duplicated()))"
   ]
  },
  {
   "cell_type": "code",
   "execution_count": 465,
   "id": "f865699f",
   "metadata": {},
   "outputs": [
    {
     "data": {
      "text/plain": [
       "director_name           0\n",
       "duration                0\n",
       "actor_2_name            0\n",
       "gross                   0\n",
       "actor_1_name            0\n",
       "movie_title             0\n",
       "num_voted_users         0\n",
       "num_user_for_reviews    0\n",
       "budget                  0\n",
       "title_year              0\n",
       "imdb_score              0\n",
       "profit                  0\n",
       "profitability_ratio     0\n",
       "revenue_rating          0\n",
       "genre_split             0\n",
       "dtype: int64"
      ]
     },
     "execution_count": 465,
     "metadata": {},
     "output_type": "execute_result"
    }
   ],
   "source": [
    "df_split_genre.isnull().sum() #check the null values"
   ]
  },
  {
   "cell_type": "markdown",
   "id": "0b52fd5b",
   "metadata": {},
   "source": []
  },
  {
   "cell_type": "code",
   "execution_count": 466,
   "id": "5b5ce173",
   "metadata": {},
   "outputs": [
    {
     "data": {
      "text/html": [
       "<div>\n",
       "<style scoped>\n",
       "    .dataframe tbody tr th:only-of-type {\n",
       "        vertical-align: middle;\n",
       "    }\n",
       "\n",
       "    .dataframe tbody tr th {\n",
       "        vertical-align: top;\n",
       "    }\n",
       "\n",
       "    .dataframe thead th {\n",
       "        text-align: right;\n",
       "    }\n",
       "</style>\n",
       "<table border=\"1\" class=\"dataframe\">\n",
       "  <thead>\n",
       "    <tr style=\"text-align: right;\">\n",
       "      <th></th>\n",
       "      <th>director_name</th>\n",
       "      <th>duration</th>\n",
       "      <th>actor_2_name</th>\n",
       "      <th>gross</th>\n",
       "      <th>genres</th>\n",
       "      <th>actor_1_name</th>\n",
       "      <th>movie_title</th>\n",
       "      <th>num_voted_users</th>\n",
       "      <th>num_user_for_reviews</th>\n",
       "      <th>budget</th>\n",
       "      <th>title_year</th>\n",
       "      <th>imdb_score</th>\n",
       "      <th>profit</th>\n",
       "      <th>profitability_ratio</th>\n",
       "      <th>revenue_rating</th>\n",
       "      <th>decades</th>\n",
       "    </tr>\n",
       "  </thead>\n",
       "  <tbody>\n",
       "    <tr>\n",
       "      <th>0</th>\n",
       "      <td>James Cameron</td>\n",
       "      <td>178.0</td>\n",
       "      <td>Joel David Moore</td>\n",
       "      <td>760505847.0</td>\n",
       "      <td>Action|Adventure|Fantasy|Sci-Fi</td>\n",
       "      <td>CCH Pounder</td>\n",
       "      <td>Avatar</td>\n",
       "      <td>886204</td>\n",
       "      <td>3054.0</td>\n",
       "      <td>237000000.0</td>\n",
       "      <td>2009.0</td>\n",
       "      <td>7.9</td>\n",
       "      <td>523505847.0</td>\n",
       "      <td>68</td>\n",
       "      <td>millions</td>\n",
       "      <td>two_thousands</td>\n",
       "    </tr>\n",
       "    <tr>\n",
       "      <th>1</th>\n",
       "      <td>Gore Verbinski</td>\n",
       "      <td>169.0</td>\n",
       "      <td>Orlando Bloom</td>\n",
       "      <td>309404152.0</td>\n",
       "      <td>Action|Adventure|Fantasy</td>\n",
       "      <td>Johnny Depp</td>\n",
       "      <td>Pirates of the Caribbean: At World's End</td>\n",
       "      <td>471220</td>\n",
       "      <td>1238.0</td>\n",
       "      <td>300000000.0</td>\n",
       "      <td>2007.0</td>\n",
       "      <td>7.1</td>\n",
       "      <td>9404152.0</td>\n",
       "      <td>3</td>\n",
       "      <td>millions</td>\n",
       "      <td>two_thousands</td>\n",
       "    </tr>\n",
       "    <tr>\n",
       "      <th>2</th>\n",
       "      <td>Sam Mendes</td>\n",
       "      <td>148.0</td>\n",
       "      <td>Rory Kinnear</td>\n",
       "      <td>200074175.0</td>\n",
       "      <td>Action|Adventure|Thriller</td>\n",
       "      <td>Christoph Waltz</td>\n",
       "      <td>Spectre</td>\n",
       "      <td>275868</td>\n",
       "      <td>994.0</td>\n",
       "      <td>245000000.0</td>\n",
       "      <td>2015.0</td>\n",
       "      <td>6.8</td>\n",
       "      <td>0.0</td>\n",
       "      <td>0</td>\n",
       "      <td>millions</td>\n",
       "      <td>two_thousand_tens</td>\n",
       "    </tr>\n",
       "    <tr>\n",
       "      <th>3</th>\n",
       "      <td>Christopher Nolan</td>\n",
       "      <td>164.0</td>\n",
       "      <td>Christian Bale</td>\n",
       "      <td>448130642.0</td>\n",
       "      <td>Action|Thriller</td>\n",
       "      <td>Tom Hardy</td>\n",
       "      <td>The Dark Knight Rises</td>\n",
       "      <td>1144337</td>\n",
       "      <td>2701.0</td>\n",
       "      <td>250000000.0</td>\n",
       "      <td>2012.0</td>\n",
       "      <td>8.5</td>\n",
       "      <td>198130642.0</td>\n",
       "      <td>44</td>\n",
       "      <td>millions</td>\n",
       "      <td>two_thousand_tens</td>\n",
       "    </tr>\n",
       "    <tr>\n",
       "      <th>5</th>\n",
       "      <td>Andrew Stanton</td>\n",
       "      <td>132.0</td>\n",
       "      <td>Samantha Morton</td>\n",
       "      <td>73058679.0</td>\n",
       "      <td>Action|Adventure|Sci-Fi</td>\n",
       "      <td>Daryl Sabara</td>\n",
       "      <td>John Carter</td>\n",
       "      <td>212204</td>\n",
       "      <td>738.0</td>\n",
       "      <td>263700000.0</td>\n",
       "      <td>2012.0</td>\n",
       "      <td>6.6</td>\n",
       "      <td>0.0</td>\n",
       "      <td>0</td>\n",
       "      <td>millions</td>\n",
       "      <td>two_thousand_tens</td>\n",
       "    </tr>\n",
       "  </tbody>\n",
       "</table>\n",
       "</div>"
      ],
      "text/plain": [
       "       director_name  duration      actor_2_name        gross  \\\n",
       "0      James Cameron     178.0  Joel David Moore  760505847.0   \n",
       "1     Gore Verbinski     169.0     Orlando Bloom  309404152.0   \n",
       "2         Sam Mendes     148.0      Rory Kinnear  200074175.0   \n",
       "3  Christopher Nolan     164.0    Christian Bale  448130642.0   \n",
       "5     Andrew Stanton     132.0   Samantha Morton   73058679.0   \n",
       "\n",
       "                            genres     actor_1_name  \\\n",
       "0  Action|Adventure|Fantasy|Sci-Fi      CCH Pounder   \n",
       "1         Action|Adventure|Fantasy      Johnny Depp   \n",
       "2        Action|Adventure|Thriller  Christoph Waltz   \n",
       "3                  Action|Thriller        Tom Hardy   \n",
       "5          Action|Adventure|Sci-Fi     Daryl Sabara   \n",
       "\n",
       "                                 movie_title  num_voted_users  \\\n",
       "0                                    Avatar            886204   \n",
       "1  Pirates of the Caribbean: At World's End            471220   \n",
       "2                                   Spectre            275868   \n",
       "3                     The Dark Knight Rises           1144337   \n",
       "5                               John Carter            212204   \n",
       "\n",
       "   num_user_for_reviews       budget  title_year  imdb_score       profit  \\\n",
       "0                3054.0  237000000.0      2009.0         7.9  523505847.0   \n",
       "1                1238.0  300000000.0      2007.0         7.1    9404152.0   \n",
       "2                 994.0  245000000.0      2015.0         6.8          0.0   \n",
       "3                2701.0  250000000.0      2012.0         8.5  198130642.0   \n",
       "5                 738.0  263700000.0      2012.0         6.6          0.0   \n",
       "\n",
       "   profitability_ratio revenue_rating            decades  \n",
       "0                   68       millions      two_thousands  \n",
       "1                    3       millions      two_thousands  \n",
       "2                    0       millions  two_thousand_tens  \n",
       "3                   44       millions  two_thousand_tens  \n",
       "5                    0       millions  two_thousand_tens  "
      ]
     },
     "execution_count": 466,
     "metadata": {},
     "output_type": "execute_result"
    }
   ],
   "source": [
    "bin_edges = [1959, 1970, 1980, 1990, 2000, 2010, 2015]\n",
    "bin_names = ['sixties', 'seventies', 'eighties', 'nineties', 'two_thousands', 'two_thousand_tens']\n",
    "df['decades'] = pd.cut(df['title_year'], bin_edges, labels=bin_names)\n",
    "df.head()"
   ]
  },
  {
   "cell_type": "markdown",
   "id": "0de7a967",
   "metadata": {},
   "source": [
    "Now, I'll repeat the process with the other columns with multiple values: actors and\n",
    "director. However, I will create copies of the original df and apply these separately so the\n",
    "processing power is not slowed too much."
   ]
  },
  {
   "cell_type": "code",
   "execution_count": 467,
   "id": "ac14dde3",
   "metadata": {
    "scrolled": true
   },
   "outputs": [
    {
     "data": {
      "text/html": [
       "<div>\n",
       "<style scoped>\n",
       "    .dataframe tbody tr th:only-of-type {\n",
       "        vertical-align: middle;\n",
       "    }\n",
       "\n",
       "    .dataframe tbody tr th {\n",
       "        vertical-align: top;\n",
       "    }\n",
       "\n",
       "    .dataframe thead th {\n",
       "        text-align: right;\n",
       "    }\n",
       "</style>\n",
       "<table border=\"1\" class=\"dataframe\">\n",
       "  <thead>\n",
       "    <tr style=\"text-align: right;\">\n",
       "      <th></th>\n",
       "      <th>director_name</th>\n",
       "      <th>duration</th>\n",
       "      <th>actor_2_name</th>\n",
       "      <th>gross</th>\n",
       "      <th>actor_1_name</th>\n",
       "      <th>movie_title</th>\n",
       "      <th>num_voted_users</th>\n",
       "      <th>num_user_for_reviews</th>\n",
       "      <th>budget</th>\n",
       "      <th>title_year</th>\n",
       "      <th>imdb_score</th>\n",
       "      <th>profit</th>\n",
       "      <th>profitability_ratio</th>\n",
       "      <th>revenue_rating</th>\n",
       "      <th>genre_split</th>\n",
       "    </tr>\n",
       "  </thead>\n",
       "  <tbody>\n",
       "    <tr>\n",
       "      <th>0</th>\n",
       "      <td>James Cameron</td>\n",
       "      <td>178.0</td>\n",
       "      <td>Joel David Moore</td>\n",
       "      <td>760505847.0</td>\n",
       "      <td>CCH Pounder</td>\n",
       "      <td>Avatar</td>\n",
       "      <td>886204</td>\n",
       "      <td>3054.0</td>\n",
       "      <td>237000000.0</td>\n",
       "      <td>2009.0</td>\n",
       "      <td>7.9</td>\n",
       "      <td>523505847.0</td>\n",
       "      <td>68</td>\n",
       "      <td>millions</td>\n",
       "      <td>Action</td>\n",
       "    </tr>\n",
       "    <tr>\n",
       "      <th>0</th>\n",
       "      <td>James Cameron</td>\n",
       "      <td>178.0</td>\n",
       "      <td>Joel David Moore</td>\n",
       "      <td>760505847.0</td>\n",
       "      <td>CCH Pounder</td>\n",
       "      <td>Avatar</td>\n",
       "      <td>886204</td>\n",
       "      <td>3054.0</td>\n",
       "      <td>237000000.0</td>\n",
       "      <td>2009.0</td>\n",
       "      <td>7.9</td>\n",
       "      <td>523505847.0</td>\n",
       "      <td>68</td>\n",
       "      <td>millions</td>\n",
       "      <td>Adventure</td>\n",
       "    </tr>\n",
       "    <tr>\n",
       "      <th>0</th>\n",
       "      <td>James Cameron</td>\n",
       "      <td>178.0</td>\n",
       "      <td>Joel David Moore</td>\n",
       "      <td>760505847.0</td>\n",
       "      <td>CCH Pounder</td>\n",
       "      <td>Avatar</td>\n",
       "      <td>886204</td>\n",
       "      <td>3054.0</td>\n",
       "      <td>237000000.0</td>\n",
       "      <td>2009.0</td>\n",
       "      <td>7.9</td>\n",
       "      <td>523505847.0</td>\n",
       "      <td>68</td>\n",
       "      <td>millions</td>\n",
       "      <td>Fantasy</td>\n",
       "    </tr>\n",
       "    <tr>\n",
       "      <th>0</th>\n",
       "      <td>James Cameron</td>\n",
       "      <td>178.0</td>\n",
       "      <td>Joel David Moore</td>\n",
       "      <td>760505847.0</td>\n",
       "      <td>CCH Pounder</td>\n",
       "      <td>Avatar</td>\n",
       "      <td>886204</td>\n",
       "      <td>3054.0</td>\n",
       "      <td>237000000.0</td>\n",
       "      <td>2009.0</td>\n",
       "      <td>7.9</td>\n",
       "      <td>523505847.0</td>\n",
       "      <td>68</td>\n",
       "      <td>millions</td>\n",
       "      <td>Sci-Fi</td>\n",
       "    </tr>\n",
       "    <tr>\n",
       "      <th>1</th>\n",
       "      <td>Gore Verbinski</td>\n",
       "      <td>169.0</td>\n",
       "      <td>Orlando Bloom</td>\n",
       "      <td>309404152.0</td>\n",
       "      <td>Johnny Depp</td>\n",
       "      <td>Pirates of the Caribbean: At World's End</td>\n",
       "      <td>471220</td>\n",
       "      <td>1238.0</td>\n",
       "      <td>300000000.0</td>\n",
       "      <td>2007.0</td>\n",
       "      <td>7.1</td>\n",
       "      <td>9404152.0</td>\n",
       "      <td>3</td>\n",
       "      <td>millions</td>\n",
       "      <td>Action</td>\n",
       "    </tr>\n",
       "  </tbody>\n",
       "</table>\n",
       "</div>"
      ],
      "text/plain": [
       "    director_name  duration      actor_2_name        gross actor_1_name  \\\n",
       "0   James Cameron     178.0  Joel David Moore  760505847.0  CCH Pounder   \n",
       "0   James Cameron     178.0  Joel David Moore  760505847.0  CCH Pounder   \n",
       "0   James Cameron     178.0  Joel David Moore  760505847.0  CCH Pounder   \n",
       "0   James Cameron     178.0  Joel David Moore  760505847.0  CCH Pounder   \n",
       "1  Gore Verbinski     169.0     Orlando Bloom  309404152.0  Johnny Depp   \n",
       "\n",
       "                                 movie_title  num_voted_users  \\\n",
       "0                                    Avatar            886204   \n",
       "0                                    Avatar            886204   \n",
       "0                                    Avatar            886204   \n",
       "0                                    Avatar            886204   \n",
       "1  Pirates of the Caribbean: At World's End            471220   \n",
       "\n",
       "   num_user_for_reviews       budget  title_year  imdb_score       profit  \\\n",
       "0                3054.0  237000000.0      2009.0         7.9  523505847.0   \n",
       "0                3054.0  237000000.0      2009.0         7.9  523505847.0   \n",
       "0                3054.0  237000000.0      2009.0         7.9  523505847.0   \n",
       "0                3054.0  237000000.0      2009.0         7.9  523505847.0   \n",
       "1                1238.0  300000000.0      2007.0         7.1    9404152.0   \n",
       "\n",
       "   profitability_ratio revenue_rating genre_split  \n",
       "0                   68       millions      Action  \n",
       "0                   68       millions   Adventure  \n",
       "0                   68       millions     Fantasy  \n",
       "0                   68       millions      Sci-Fi  \n",
       "1                    3       millions      Action  "
      ]
     },
     "execution_count": 467,
     "metadata": {},
     "output_type": "execute_result"
    }
   ],
   "source": [
    "df_split_cast = df.copy()\n",
    "split_cast = df_split_cast['actor_1_name'].str.split('|').apply(pd.Series, 1).stack().reset_index(level=1, drop=True)\n",
    "split_cast.name = 'cast_split'\n",
    "df_split_cast = df_split_cast.drop(['actor_1_name'], axis=1).join(split_cast)\n",
    "df_split_director = df.copy()\n",
    "split_director = df_split_director['director_name'].str.split('|').apply(pd.Series, 1).stack().reset_index(level=1, drop=True)\n",
    "split_director.name = 'director_split'\n",
    "df_split_director = df_split_director.drop(['director_name'], axis=1).join(split_director)\n",
    "df_split_genre.head()"
   ]
  },
  {
   "cell_type": "code",
   "execution_count": 468,
   "id": "cf3b7528",
   "metadata": {},
   "outputs": [
    {
     "data": {
      "text/html": [
       "<div>\n",
       "<style scoped>\n",
       "    .dataframe tbody tr th:only-of-type {\n",
       "        vertical-align: middle;\n",
       "    }\n",
       "\n",
       "    .dataframe tbody tr th {\n",
       "        vertical-align: top;\n",
       "    }\n",
       "\n",
       "    .dataframe thead th {\n",
       "        text-align: right;\n",
       "    }\n",
       "</style>\n",
       "<table border=\"1\" class=\"dataframe\">\n",
       "  <thead>\n",
       "    <tr style=\"text-align: right;\">\n",
       "      <th></th>\n",
       "      <th>director_name</th>\n",
       "      <th>duration</th>\n",
       "      <th>actor_2_name</th>\n",
       "      <th>gross</th>\n",
       "      <th>genres</th>\n",
       "      <th>movie_title</th>\n",
       "      <th>num_voted_users</th>\n",
       "      <th>num_user_for_reviews</th>\n",
       "      <th>budget</th>\n",
       "      <th>title_year</th>\n",
       "      <th>imdb_score</th>\n",
       "      <th>profit</th>\n",
       "      <th>profitability_ratio</th>\n",
       "      <th>revenue_rating</th>\n",
       "      <th>decades</th>\n",
       "      <th>cast_split</th>\n",
       "    </tr>\n",
       "  </thead>\n",
       "  <tbody>\n",
       "    <tr>\n",
       "      <th>0</th>\n",
       "      <td>James Cameron</td>\n",
       "      <td>178.0</td>\n",
       "      <td>Joel David Moore</td>\n",
       "      <td>760505847.0</td>\n",
       "      <td>Action|Adventure|Fantasy|Sci-Fi</td>\n",
       "      <td>Avatar</td>\n",
       "      <td>886204</td>\n",
       "      <td>3054.0</td>\n",
       "      <td>237000000.0</td>\n",
       "      <td>2009.0</td>\n",
       "      <td>7.9</td>\n",
       "      <td>523505847.0</td>\n",
       "      <td>68</td>\n",
       "      <td>millions</td>\n",
       "      <td>two_thousands</td>\n",
       "      <td>CCH Pounder</td>\n",
       "    </tr>\n",
       "    <tr>\n",
       "      <th>1</th>\n",
       "      <td>Gore Verbinski</td>\n",
       "      <td>169.0</td>\n",
       "      <td>Orlando Bloom</td>\n",
       "      <td>309404152.0</td>\n",
       "      <td>Action|Adventure|Fantasy</td>\n",
       "      <td>Pirates of the Caribbean: At World's End</td>\n",
       "      <td>471220</td>\n",
       "      <td>1238.0</td>\n",
       "      <td>300000000.0</td>\n",
       "      <td>2007.0</td>\n",
       "      <td>7.1</td>\n",
       "      <td>9404152.0</td>\n",
       "      <td>3</td>\n",
       "      <td>millions</td>\n",
       "      <td>two_thousands</td>\n",
       "      <td>Johnny Depp</td>\n",
       "    </tr>\n",
       "    <tr>\n",
       "      <th>2</th>\n",
       "      <td>Sam Mendes</td>\n",
       "      <td>148.0</td>\n",
       "      <td>Rory Kinnear</td>\n",
       "      <td>200074175.0</td>\n",
       "      <td>Action|Adventure|Thriller</td>\n",
       "      <td>Spectre</td>\n",
       "      <td>275868</td>\n",
       "      <td>994.0</td>\n",
       "      <td>245000000.0</td>\n",
       "      <td>2015.0</td>\n",
       "      <td>6.8</td>\n",
       "      <td>0.0</td>\n",
       "      <td>0</td>\n",
       "      <td>millions</td>\n",
       "      <td>two_thousand_tens</td>\n",
       "      <td>Christoph Waltz</td>\n",
       "    </tr>\n",
       "    <tr>\n",
       "      <th>3</th>\n",
       "      <td>Christopher Nolan</td>\n",
       "      <td>164.0</td>\n",
       "      <td>Christian Bale</td>\n",
       "      <td>448130642.0</td>\n",
       "      <td>Action|Thriller</td>\n",
       "      <td>The Dark Knight Rises</td>\n",
       "      <td>1144337</td>\n",
       "      <td>2701.0</td>\n",
       "      <td>250000000.0</td>\n",
       "      <td>2012.0</td>\n",
       "      <td>8.5</td>\n",
       "      <td>198130642.0</td>\n",
       "      <td>44</td>\n",
       "      <td>millions</td>\n",
       "      <td>two_thousand_tens</td>\n",
       "      <td>Tom Hardy</td>\n",
       "    </tr>\n",
       "    <tr>\n",
       "      <th>5</th>\n",
       "      <td>Andrew Stanton</td>\n",
       "      <td>132.0</td>\n",
       "      <td>Samantha Morton</td>\n",
       "      <td>73058679.0</td>\n",
       "      <td>Action|Adventure|Sci-Fi</td>\n",
       "      <td>John Carter</td>\n",
       "      <td>212204</td>\n",
       "      <td>738.0</td>\n",
       "      <td>263700000.0</td>\n",
       "      <td>2012.0</td>\n",
       "      <td>6.6</td>\n",
       "      <td>0.0</td>\n",
       "      <td>0</td>\n",
       "      <td>millions</td>\n",
       "      <td>two_thousand_tens</td>\n",
       "      <td>Daryl Sabara</td>\n",
       "    </tr>\n",
       "  </tbody>\n",
       "</table>\n",
       "</div>"
      ],
      "text/plain": [
       "       director_name  duration      actor_2_name        gross  \\\n",
       "0      James Cameron     178.0  Joel David Moore  760505847.0   \n",
       "1     Gore Verbinski     169.0     Orlando Bloom  309404152.0   \n",
       "2         Sam Mendes     148.0      Rory Kinnear  200074175.0   \n",
       "3  Christopher Nolan     164.0    Christian Bale  448130642.0   \n",
       "5     Andrew Stanton     132.0   Samantha Morton   73058679.0   \n",
       "\n",
       "                            genres                                movie_title  \\\n",
       "0  Action|Adventure|Fantasy|Sci-Fi                                    Avatar    \n",
       "1         Action|Adventure|Fantasy  Pirates of the Caribbean: At World's End    \n",
       "2        Action|Adventure|Thriller                                   Spectre    \n",
       "3                  Action|Thriller                     The Dark Knight Rises    \n",
       "5          Action|Adventure|Sci-Fi                               John Carter    \n",
       "\n",
       "   num_voted_users  num_user_for_reviews       budget  title_year  imdb_score  \\\n",
       "0           886204                3054.0  237000000.0      2009.0         7.9   \n",
       "1           471220                1238.0  300000000.0      2007.0         7.1   \n",
       "2           275868                 994.0  245000000.0      2015.0         6.8   \n",
       "3          1144337                2701.0  250000000.0      2012.0         8.5   \n",
       "5           212204                 738.0  263700000.0      2012.0         6.6   \n",
       "\n",
       "        profit  profitability_ratio revenue_rating            decades  \\\n",
       "0  523505847.0                   68       millions      two_thousands   \n",
       "1    9404152.0                    3       millions      two_thousands   \n",
       "2          0.0                    0       millions  two_thousand_tens   \n",
       "3  198130642.0                   44       millions  two_thousand_tens   \n",
       "5          0.0                    0       millions  two_thousand_tens   \n",
       "\n",
       "        cast_split  \n",
       "0      CCH Pounder  \n",
       "1      Johnny Depp  \n",
       "2  Christoph Waltz  \n",
       "3        Tom Hardy  \n",
       "5     Daryl Sabara  "
      ]
     },
     "execution_count": 468,
     "metadata": {},
     "output_type": "execute_result"
    }
   ],
   "source": [
    "df_split_cast.head()#first 5 entry after adding the new column director_split\n"
   ]
  },
  {
   "cell_type": "code",
   "execution_count": 469,
   "id": "294753dd",
   "metadata": {},
   "outputs": [
    {
     "data": {
      "text/html": [
       "<div>\n",
       "<style scoped>\n",
       "    .dataframe tbody tr th:only-of-type {\n",
       "        vertical-align: middle;\n",
       "    }\n",
       "\n",
       "    .dataframe tbody tr th {\n",
       "        vertical-align: top;\n",
       "    }\n",
       "\n",
       "    .dataframe thead th {\n",
       "        text-align: right;\n",
       "    }\n",
       "</style>\n",
       "<table border=\"1\" class=\"dataframe\">\n",
       "  <thead>\n",
       "    <tr style=\"text-align: right;\">\n",
       "      <th></th>\n",
       "      <th>duration</th>\n",
       "      <th>actor_2_name</th>\n",
       "      <th>gross</th>\n",
       "      <th>genres</th>\n",
       "      <th>actor_1_name</th>\n",
       "      <th>movie_title</th>\n",
       "      <th>num_voted_users</th>\n",
       "      <th>num_user_for_reviews</th>\n",
       "      <th>budget</th>\n",
       "      <th>title_year</th>\n",
       "      <th>imdb_score</th>\n",
       "      <th>profit</th>\n",
       "      <th>profitability_ratio</th>\n",
       "      <th>revenue_rating</th>\n",
       "      <th>decades</th>\n",
       "      <th>director_split</th>\n",
       "    </tr>\n",
       "  </thead>\n",
       "  <tbody>\n",
       "    <tr>\n",
       "      <th>0</th>\n",
       "      <td>178.0</td>\n",
       "      <td>Joel David Moore</td>\n",
       "      <td>760505847.0</td>\n",
       "      <td>Action|Adventure|Fantasy|Sci-Fi</td>\n",
       "      <td>CCH Pounder</td>\n",
       "      <td>Avatar</td>\n",
       "      <td>886204</td>\n",
       "      <td>3054.0</td>\n",
       "      <td>237000000.0</td>\n",
       "      <td>2009.0</td>\n",
       "      <td>7.9</td>\n",
       "      <td>523505847.0</td>\n",
       "      <td>68</td>\n",
       "      <td>millions</td>\n",
       "      <td>two_thousands</td>\n",
       "      <td>James Cameron</td>\n",
       "    </tr>\n",
       "    <tr>\n",
       "      <th>1</th>\n",
       "      <td>169.0</td>\n",
       "      <td>Orlando Bloom</td>\n",
       "      <td>309404152.0</td>\n",
       "      <td>Action|Adventure|Fantasy</td>\n",
       "      <td>Johnny Depp</td>\n",
       "      <td>Pirates of the Caribbean: At World's End</td>\n",
       "      <td>471220</td>\n",
       "      <td>1238.0</td>\n",
       "      <td>300000000.0</td>\n",
       "      <td>2007.0</td>\n",
       "      <td>7.1</td>\n",
       "      <td>9404152.0</td>\n",
       "      <td>3</td>\n",
       "      <td>millions</td>\n",
       "      <td>two_thousands</td>\n",
       "      <td>Gore Verbinski</td>\n",
       "    </tr>\n",
       "    <tr>\n",
       "      <th>2</th>\n",
       "      <td>148.0</td>\n",
       "      <td>Rory Kinnear</td>\n",
       "      <td>200074175.0</td>\n",
       "      <td>Action|Adventure|Thriller</td>\n",
       "      <td>Christoph Waltz</td>\n",
       "      <td>Spectre</td>\n",
       "      <td>275868</td>\n",
       "      <td>994.0</td>\n",
       "      <td>245000000.0</td>\n",
       "      <td>2015.0</td>\n",
       "      <td>6.8</td>\n",
       "      <td>0.0</td>\n",
       "      <td>0</td>\n",
       "      <td>millions</td>\n",
       "      <td>two_thousand_tens</td>\n",
       "      <td>Sam Mendes</td>\n",
       "    </tr>\n",
       "    <tr>\n",
       "      <th>3</th>\n",
       "      <td>164.0</td>\n",
       "      <td>Christian Bale</td>\n",
       "      <td>448130642.0</td>\n",
       "      <td>Action|Thriller</td>\n",
       "      <td>Tom Hardy</td>\n",
       "      <td>The Dark Knight Rises</td>\n",
       "      <td>1144337</td>\n",
       "      <td>2701.0</td>\n",
       "      <td>250000000.0</td>\n",
       "      <td>2012.0</td>\n",
       "      <td>8.5</td>\n",
       "      <td>198130642.0</td>\n",
       "      <td>44</td>\n",
       "      <td>millions</td>\n",
       "      <td>two_thousand_tens</td>\n",
       "      <td>Christopher Nolan</td>\n",
       "    </tr>\n",
       "    <tr>\n",
       "      <th>5</th>\n",
       "      <td>132.0</td>\n",
       "      <td>Samantha Morton</td>\n",
       "      <td>73058679.0</td>\n",
       "      <td>Action|Adventure|Sci-Fi</td>\n",
       "      <td>Daryl Sabara</td>\n",
       "      <td>John Carter</td>\n",
       "      <td>212204</td>\n",
       "      <td>738.0</td>\n",
       "      <td>263700000.0</td>\n",
       "      <td>2012.0</td>\n",
       "      <td>6.6</td>\n",
       "      <td>0.0</td>\n",
       "      <td>0</td>\n",
       "      <td>millions</td>\n",
       "      <td>two_thousand_tens</td>\n",
       "      <td>Andrew Stanton</td>\n",
       "    </tr>\n",
       "  </tbody>\n",
       "</table>\n",
       "</div>"
      ],
      "text/plain": [
       "   duration      actor_2_name        gross                           genres  \\\n",
       "0     178.0  Joel David Moore  760505847.0  Action|Adventure|Fantasy|Sci-Fi   \n",
       "1     169.0     Orlando Bloom  309404152.0         Action|Adventure|Fantasy   \n",
       "2     148.0      Rory Kinnear  200074175.0        Action|Adventure|Thriller   \n",
       "3     164.0    Christian Bale  448130642.0                  Action|Thriller   \n",
       "5     132.0   Samantha Morton   73058679.0          Action|Adventure|Sci-Fi   \n",
       "\n",
       "      actor_1_name                                movie_title  \\\n",
       "0      CCH Pounder                                    Avatar    \n",
       "1      Johnny Depp  Pirates of the Caribbean: At World's End    \n",
       "2  Christoph Waltz                                   Spectre    \n",
       "3        Tom Hardy                     The Dark Knight Rises    \n",
       "5     Daryl Sabara                               John Carter    \n",
       "\n",
       "   num_voted_users  num_user_for_reviews       budget  title_year  imdb_score  \\\n",
       "0           886204                3054.0  237000000.0      2009.0         7.9   \n",
       "1           471220                1238.0  300000000.0      2007.0         7.1   \n",
       "2           275868                 994.0  245000000.0      2015.0         6.8   \n",
       "3          1144337                2701.0  250000000.0      2012.0         8.5   \n",
       "5           212204                 738.0  263700000.0      2012.0         6.6   \n",
       "\n",
       "        profit  profitability_ratio revenue_rating            decades  \\\n",
       "0  523505847.0                   68       millions      two_thousands   \n",
       "1    9404152.0                    3       millions      two_thousands   \n",
       "2          0.0                    0       millions  two_thousand_tens   \n",
       "3  198130642.0                   44       millions  two_thousand_tens   \n",
       "5          0.0                    0       millions  two_thousand_tens   \n",
       "\n",
       "      director_split  \n",
       "0      James Cameron  \n",
       "1     Gore Verbinski  \n",
       "2         Sam Mendes  \n",
       "3  Christopher Nolan  \n",
       "5     Andrew Stanton  "
      ]
     },
     "execution_count": 469,
     "metadata": {},
     "output_type": "execute_result"
    }
   ],
   "source": [
    "df_split_director.head()#first 5 entry after adding the new column cast_split"
   ]
  },
  {
   "cell_type": "code",
   "execution_count": 470,
   "id": "222344bb",
   "metadata": {},
   "outputs": [
    {
     "name": "stdout",
     "output_type": "stream",
     "text": [
      "<class 'pandas.core.frame.DataFrame'>\n",
      "Int64Index: 11435 entries, 0 to 5042\n",
      "Data columns (total 15 columns):\n",
      " #   Column                Non-Null Count  Dtype   \n",
      "---  ------                --------------  -----   \n",
      " 0   director_name         11435 non-null  object  \n",
      " 1   duration              11435 non-null  float64 \n",
      " 2   actor_2_name          11435 non-null  object  \n",
      " 3   gross                 11435 non-null  float64 \n",
      " 4   actor_1_name          11435 non-null  object  \n",
      " 5   movie_title           11435 non-null  object  \n",
      " 6   num_voted_users       11435 non-null  int64   \n",
      " 7   num_user_for_reviews  11435 non-null  float64 \n",
      " 8   budget                11435 non-null  float64 \n",
      " 9   title_year            11435 non-null  float64 \n",
      " 10  imdb_score            11435 non-null  float64 \n",
      " 11  profit                11435 non-null  float64 \n",
      " 12  profitability_ratio   11435 non-null  int64   \n",
      " 13  revenue_rating        11435 non-null  category\n",
      " 14  genre_split           11435 non-null  object  \n",
      "dtypes: category(1), float64(7), int64(2), object(5)\n",
      "memory usage: 1.3+ MB\n"
     ]
    }
   ],
   "source": [
    "df_split_genre.info()"
   ]
  },
  {
   "cell_type": "code",
   "execution_count": 471,
   "id": "f146fd33",
   "metadata": {},
   "outputs": [
    {
     "name": "stdout",
     "output_type": "stream",
     "text": [
      "<class 'pandas.core.frame.DataFrame'>\n",
      "Int64Index: 3850 entries, 0 to 5042\n",
      "Data columns (total 16 columns):\n",
      " #   Column                Non-Null Count  Dtype   \n",
      "---  ------                --------------  -----   \n",
      " 0   director_name         3850 non-null   object  \n",
      " 1   duration              3850 non-null   float64 \n",
      " 2   actor_2_name          3850 non-null   object  \n",
      " 3   gross                 3850 non-null   float64 \n",
      " 4   genres                3850 non-null   object  \n",
      " 5   movie_title           3850 non-null   object  \n",
      " 6   num_voted_users       3850 non-null   int64   \n",
      " 7   num_user_for_reviews  3850 non-null   float64 \n",
      " 8   budget                3850 non-null   float64 \n",
      " 9   title_year            3850 non-null   float64 \n",
      " 10  imdb_score            3850 non-null   float64 \n",
      " 11  profit                3850 non-null   float64 \n",
      " 12  profitability_ratio   3850 non-null   int64   \n",
      " 13  revenue_rating        3850 non-null   category\n",
      " 14  decades               3760 non-null   category\n",
      " 15  cast_split            3850 non-null   object  \n",
      "dtypes: category(2), float64(7), int64(2), object(5)\n",
      "memory usage: 588.1+ KB\n"
     ]
    }
   ],
   "source": [
    "df_split_cast.info()"
   ]
  },
  {
   "cell_type": "code",
   "execution_count": 472,
   "id": "76dd9cb3",
   "metadata": {},
   "outputs": [
    {
     "name": "stdout",
     "output_type": "stream",
     "text": [
      "<class 'pandas.core.frame.DataFrame'>\n",
      "Int64Index: 3850 entries, 0 to 5042\n",
      "Data columns (total 16 columns):\n",
      " #   Column                Non-Null Count  Dtype   \n",
      "---  ------                --------------  -----   \n",
      " 0   duration              3850 non-null   float64 \n",
      " 1   actor_2_name          3850 non-null   object  \n",
      " 2   gross                 3850 non-null   float64 \n",
      " 3   genres                3850 non-null   object  \n",
      " 4   actor_1_name          3850 non-null   object  \n",
      " 5   movie_title           3850 non-null   object  \n",
      " 6   num_voted_users       3850 non-null   int64   \n",
      " 7   num_user_for_reviews  3850 non-null   float64 \n",
      " 8   budget                3850 non-null   float64 \n",
      " 9   title_year            3850 non-null   float64 \n",
      " 10  imdb_score            3850 non-null   float64 \n",
      " 11  profit                3850 non-null   float64 \n",
      " 12  profitability_ratio   3850 non-null   int64   \n",
      " 13  revenue_rating        3850 non-null   category\n",
      " 14  decades               3760 non-null   category\n",
      " 15  director_split        3850 non-null   object  \n",
      "dtypes: category(2), float64(7), int64(2), object(5)\n",
      "memory usage: 588.1+ KB\n"
     ]
    }
   ],
   "source": [
    "df_split_director.info()"
   ]
  },
  {
   "cell_type": "markdown",
   "id": "eaf9d1fa",
   "metadata": {},
   "source": [
    "We now have 4 clean dataframes: df, df_split_genre, df_split_cast, and df_split_director.\n",
    "Let's move on to exploring data. I'd like to add 2 new categories, profit and\n",
    "profitability ratio in order to compare this to gross, and a new column that splits up gross\n",
    "into 3 categories: under a million, millions, and billions.\n",
    "\n",
    "Exploratory Data Analysis:\n",
    "we've trimmed and cleaned our data, let's move on to exploration. In this, we'll\n",
    "compute statistics and create visualizations.\n",
    "Let's first view all columns with numerical data with a histogram\n"
   ]
  },
  {
   "cell_type": "code",
   "execution_count": 473,
   "id": "7f52d90f",
   "metadata": {
    "scrolled": true
   },
   "outputs": [
    {
     "data": {
      "image/png": "[encoded data removed]",
      "text/plain": [
       "<Figure size 720x720 with 9 Axes>"
      ]
     },
     "metadata": {
      "needs_background": "light"
     },
     "output_type": "display_data"
    }
   ],
   "source": [
    "df.hist(figsize=(10,10));"
   ]
  },
  {
   "cell_type": "markdown",
   "id": "c9189f03",
   "metadata": {},
   "source": [
    "Let's check what genres are most popular overall."
   ]
  },
  {
   "cell_type": "code",
   "execution_count": 474,
   "id": "158d989a",
   "metadata": {},
   "outputs": [
    {
     "data": {
      "image/png": "[encoded data removed]",
      "text/plain": [
       "<Figure size 432x288 with 1 Axes>"
      ]
     },
     "metadata": {
      "needs_background": "light"
     },
     "output_type": "display_data"
    }
   ],
   "source": [
    "df_split_genre['genre_split'].value_counts().plot(kind='bar', color='g');\n",
    "plt.title('Movies by Genre, 1960-2015', size=18)\n",
    "plt.xlabel('Genre', size=12)\n",
    "plt.ylabel('Movie count', size=12);"
   ]
  },
  {
   "cell_type": "markdown",
   "id": "4c58b912",
   "metadata": {},
   "source": [
    "Drama, Comedy, Thriller, and Action are the most popular genres in general.We can assess that these top 4 genres make up about 50% of all movies.\n",
    "Let's check for movie_title and duration"
   ]
  },
  {
   "cell_type": "code",
   "execution_count": 475,
   "id": "9dca2b1a",
   "metadata": {},
   "outputs": [
    {
     "data": {
      "image/png": "[encoded data removed]",
      "text/plain": [
       "<Figure size 432x288 with 1 Axes>"
      ]
     },
     "metadata": {
      "needs_background": "light"
     },
     "output_type": "display_data"
    }
   ],
   "source": [
    "runtime = df.groupby('title_year')['duration'].mean()\n",
    "plt.plot(runtime)\n",
    "plt.xlabel('Years', size=12)\n",
    "plt.ylabel('Runtime: Movie Length, minutes', size=12);"
   ]
  },
  {
   "cell_type": "markdown",
   "id": "16eb288d",
   "metadata": {},
   "source": [
    "Duration has decreased throughout the years, from 118 minutes in 1960 to 97 minutes in 2015.\n",
    "Let's look at this data for the decades:\n",
    "Now we will check what properties are associated with higher revenues?\n",
    "General scatter plots of revenue vs budget, profit, and popularity."
   ]
  },
  {
   "cell_type": "code",
   "execution_count": 476,
   "id": "0bd2956c",
   "metadata": {},
   "outputs": [
    {
     "data": {
      "image/png": "[encoded data removed]",
      "text/plain": [
       "<Figure size 432x288 with 1 Axes>"
      ]
     },
     "metadata": {
      "needs_background": "light"
     },
     "output_type": "display_data"
    }
   ],
   "source": [
    "df.plot(x='gross', y='budget', kind='scatter');"
   ]
  },
  {
   "cell_type": "code",
   "execution_count": 477,
   "id": "daddc2a3",
   "metadata": {},
   "outputs": [
    {
     "data": {
      "text/plain": [
       "<AxesSubplot:xlabel='gross', ylabel='profit'>"
      ]
     },
     "execution_count": 477,
     "metadata": {},
     "output_type": "execute_result"
    },
    {
     "data": {
      "image/png": "[encoded data removed]",
      "text/plain": [
       "<Figure size 432x288 with 1 Axes>"
      ]
     },
     "metadata": {
      "needs_background": "light"
     },
     "output_type": "display_data"
    }
   ],
   "source": [
    "df.plot(x='gross', y='profit', kind='scatter')"
   ]
  },
  {
   "cell_type": "code",
   "execution_count": 478,
   "id": "f1c17466",
   "metadata": {},
   "outputs": [
    {
     "data": {
      "image/png": "[encoded data removed]",
      "text/plain": [
       "<Figure size 432x288 with 1 Axes>"
      ]
     },
     "metadata": {
      "needs_background": "light"
     },
     "output_type": "display_data"
    }
   ],
   "source": [
    "df.plot(x='gross', y='profitability_ratio', kind='scatter');"
   ]
  },
  {
   "cell_type": "code",
   "execution_count": 479,
   "id": "4752f903",
   "metadata": {},
   "outputs": [
    {
     "data": {
      "image/png": "[encoded data removed]",
      "text/plain": [
       "<Figure size 432x288 with 1 Axes>"
      ]
     },
     "metadata": {
      "needs_background": "light"
     },
     "output_type": "display_data"
    }
   ],
   "source": [
    "df.plot(x='gross', y='imdb_score', kind='scatter');"
   ]
  },
  {
   "cell_type": "markdown",
   "id": "e4b34690",
   "metadata": {},
   "source": [
    "*Gross and budget have a weak positive correlation.\n",
    "*Gross and profit have a strong positive correlation.\n",
    "*Gross and profitability have a weak positive correlation.\n",
    "*Gross and imdb_score have positive correlation, movies with higher revenues tend to\n",
    "be more popular."
   ]
  },
  {
   "cell_type": "markdown",
   "id": "9b895838",
   "metadata": {},
   "source": [
    " Lets check whether revenues increased over time"
   ]
  },
  {
   "cell_type": "code",
   "execution_count": 480,
   "id": "ed00f778",
   "metadata": {
    "scrolled": true
   },
   "outputs": [
    {
     "name": "stdout",
     "output_type": "stream",
     "text": [
      "decades\n",
      "sixties              3.766196e+07\n",
      "seventies            7.285377e+07\n",
      "eighties             5.414231e+07\n",
      "nineties             4.527292e+07\n",
      "two_thousands        4.735571e+07\n",
      "two_thousand_tens    6.134050e+07\n",
      "Name: gross, dtype: float64\n"
     ]
    },
    {
     "data": {
      "image/png": "[encoded data removed]",
      "text/plain": [
       "<Figure size 432x288 with 1 Axes>"
      ]
     },
     "metadata": {
      "needs_background": "light"
     },
     "output_type": "display_data"
    }
   ],
   "source": [
    "rev = df.groupby('title_year')['gross'].mean()\n",
    "print(df.groupby('decades')['gross'].mean())\n",
    "plt.plot(rev)\n",
    "plt.title('Gross over the Years', size=15);\n",
    "plt.xlabel('Decade', size=12)\n",
    "plt.ylabel('Average Revenue', size=12);"
   ]
  },
  {
   "cell_type": "markdown",
   "id": "9a696053",
   "metadata": {},
   "source": []
  },
  {
   "cell_type": "code",
   "execution_count": 481,
   "id": "5ce9ff38",
   "metadata": {},
   "outputs": [
    {
     "data": {
      "text/plain": [
       "96"
      ]
     },
     "execution_count": 481,
     "metadata": {},
     "output_type": "execute_result"
    }
   ],
   "source": [
    "df_top_hundred = df.sort_values(by=['gross'], ascending=False).head(100)\n",
    "df_top_hundred['movie_title'].nunique()"
   ]
  },
  {
   "cell_type": "code",
   "execution_count": 482,
   "id": "fdbc05b4",
   "metadata": {
    "scrolled": true
   },
   "outputs": [
    {
     "data": {
      "text/html": [
       "<div>\n",
       "<style scoped>\n",
       "    .dataframe tbody tr th:only-of-type {\n",
       "        vertical-align: middle;\n",
       "    }\n",
       "\n",
       "    .dataframe tbody tr th {\n",
       "        vertical-align: top;\n",
       "    }\n",
       "\n",
       "    .dataframe thead th {\n",
       "        text-align: right;\n",
       "    }\n",
       "</style>\n",
       "<table border=\"1\" class=\"dataframe\">\n",
       "  <thead>\n",
       "    <tr style=\"text-align: right;\">\n",
       "      <th></th>\n",
       "      <th>duration</th>\n",
       "      <th>gross</th>\n",
       "      <th>num_voted_users</th>\n",
       "      <th>num_user_for_reviews</th>\n",
       "      <th>budget</th>\n",
       "      <th>title_year</th>\n",
       "      <th>imdb_score</th>\n",
       "      <th>profit</th>\n",
       "      <th>profitability_ratio</th>\n",
       "    </tr>\n",
       "  </thead>\n",
       "  <tbody>\n",
       "    <tr>\n",
       "      <th>count</th>\n",
       "      <td>100.000000</td>\n",
       "      <td>1.000000e+02</td>\n",
       "      <td>1.000000e+02</td>\n",
       "      <td>100.000000</td>\n",
       "      <td>1.000000e+02</td>\n",
       "      <td>100.000000</td>\n",
       "      <td>100.000</td>\n",
       "      <td>1.000000e+02</td>\n",
       "      <td>100.000000</td>\n",
       "    </tr>\n",
       "    <tr>\n",
       "      <th>mean</th>\n",
       "      <td>130.900000</td>\n",
       "      <td>3.402472e+08</td>\n",
       "      <td>4.978842e+05</td>\n",
       "      <td>1294.350000</td>\n",
       "      <td>1.381180e+08</td>\n",
       "      <td>2006.220000</td>\n",
       "      <td>7.445</td>\n",
       "      <td>2.021292e+08</td>\n",
       "      <td>57.800000</td>\n",
       "    </tr>\n",
       "    <tr>\n",
       "      <th>std</th>\n",
       "      <td>28.189654</td>\n",
       "      <td>9.213645e+07</td>\n",
       "      <td>2.917110e+05</td>\n",
       "      <td>965.646508</td>\n",
       "      <td>7.016976e+07</td>\n",
       "      <td>8.791157</td>\n",
       "      <td>0.842</td>\n",
       "      <td>1.011316e+08</td>\n",
       "      <td>21.758546</td>\n",
       "    </tr>\n",
       "    <tr>\n",
       "      <th>min</th>\n",
       "      <td>73.000000</td>\n",
       "      <td>2.458234e+08</td>\n",
       "      <td>2.440700e+04</td>\n",
       "      <td>155.000000</td>\n",
       "      <td>8.000000e+06</td>\n",
       "      <td>1975.000000</td>\n",
       "      <td>4.600</td>\n",
       "      <td>5.108370e+06</td>\n",
       "      <td>2.000000</td>\n",
       "    </tr>\n",
       "    <tr>\n",
       "      <th>25%</th>\n",
       "      <td>106.750000</td>\n",
       "      <td>2.816227e+08</td>\n",
       "      <td>3.137412e+05</td>\n",
       "      <td>641.750000</td>\n",
       "      <td>7.950000e+07</td>\n",
       "      <td>2002.750000</td>\n",
       "      <td>7.000</td>\n",
       "      <td>1.341852e+08</td>\n",
       "      <td>44.000000</td>\n",
       "    </tr>\n",
       "    <tr>\n",
       "      <th>50%</th>\n",
       "      <td>130.000000</td>\n",
       "      <td>3.154243e+08</td>\n",
       "      <td>4.373690e+05</td>\n",
       "      <td>956.500000</td>\n",
       "      <td>1.450000e+08</td>\n",
       "      <td>2009.000000</td>\n",
       "      <td>7.550</td>\n",
       "      <td>1.876451e+08</td>\n",
       "      <td>60.000000</td>\n",
       "    </tr>\n",
       "    <tr>\n",
       "      <th>75%</th>\n",
       "      <td>150.000000</td>\n",
       "      <td>3.693817e+08</td>\n",
       "      <td>5.830230e+05</td>\n",
       "      <td>1737.000000</td>\n",
       "      <td>2.000000e+08</td>\n",
       "      <td>2013.000000</td>\n",
       "      <td>8.000</td>\n",
       "      <td>2.556336e+08</td>\n",
       "      <td>75.000000</td>\n",
       "    </tr>\n",
       "    <tr>\n",
       "      <th>max</th>\n",
       "      <td>195.000000</td>\n",
       "      <td>7.605058e+08</td>\n",
       "      <td>1.676169e+06</td>\n",
       "      <td>5060.000000</td>\n",
       "      <td>3.000000e+08</td>\n",
       "      <td>2016.000000</td>\n",
       "      <td>9.000</td>\n",
       "      <td>5.235058e+08</td>\n",
       "      <td>97.000000</td>\n",
       "    </tr>\n",
       "  </tbody>\n",
       "</table>\n",
       "</div>"
      ],
      "text/plain": [
       "         duration         gross  num_voted_users  num_user_for_reviews  \\\n",
       "count  100.000000  1.000000e+02     1.000000e+02            100.000000   \n",
       "mean   130.900000  3.402472e+08     4.978842e+05           1294.350000   \n",
       "std     28.189654  9.213645e+07     2.917110e+05            965.646508   \n",
       "min     73.000000  2.458234e+08     2.440700e+04            155.000000   \n",
       "25%    106.750000  2.816227e+08     3.137412e+05            641.750000   \n",
       "50%    130.000000  3.154243e+08     4.373690e+05            956.500000   \n",
       "75%    150.000000  3.693817e+08     5.830230e+05           1737.000000   \n",
       "max    195.000000  7.605058e+08     1.676169e+06           5060.000000   \n",
       "\n",
       "             budget   title_year  imdb_score        profit  \\\n",
       "count  1.000000e+02   100.000000     100.000  1.000000e+02   \n",
       "mean   1.381180e+08  2006.220000       7.445  2.021292e+08   \n",
       "std    7.016976e+07     8.791157       0.842  1.011316e+08   \n",
       "min    8.000000e+06  1975.000000       4.600  5.108370e+06   \n",
       "25%    7.950000e+07  2002.750000       7.000  1.341852e+08   \n",
       "50%    1.450000e+08  2009.000000       7.550  1.876451e+08   \n",
       "75%    2.000000e+08  2013.000000       8.000  2.556336e+08   \n",
       "max    3.000000e+08  2016.000000       9.000  5.235058e+08   \n",
       "\n",
       "       profitability_ratio  \n",
       "count           100.000000  \n",
       "mean             57.800000  \n",
       "std              21.758546  \n",
       "min               2.000000  \n",
       "25%              44.000000  \n",
       "50%              60.000000  \n",
       "75%              75.000000  \n",
       "max              97.000000  "
      ]
     },
     "execution_count": 482,
     "metadata": {},
     "output_type": "execute_result"
    }
   ],
   "source": [
    "df_top_hundred.describe()"
   ]
  },
  {
   "cell_type": "markdown",
   "id": "e62987eb",
   "metadata": {},
   "source": []
  },
  {
   "cell_type": "code",
   "execution_count": 483,
   "id": "bba5c9be",
   "metadata": {},
   "outputs": [
    {
     "name": "stdout",
     "output_type": "stream",
     "text": [
      "Drama       1923\n",
      "Comedy      1479\n",
      "Thriller    1103\n",
      "Action       912\n",
      "Romance      867\n",
      "Name: genre_split, dtype: int64\n",
      "Adventure    79\n",
      "Action       49\n",
      "Fantasy      46\n",
      "Sci-Fi       37\n",
      "Family       33\n",
      "Name: genre_split, dtype: int64\n"
     ]
    }
   ],
   "source": [
    "below_hundred = df_split_genre.query('gross < 2.458234e+08')\n",
    "top_hundred = df_split_genre.query('gross >= 2.458234e+08')\n",
    "print(below_hundred['genre_split'].value_counts().nlargest(5))\n",
    "print(top_hundred['genre_split'].value_counts().nlargest(5))"
   ]
  },
  {
   "cell_type": "code",
   "execution_count": 484,
   "id": "788b3f22",
   "metadata": {},
   "outputs": [
    {
     "data": {
      "image/png": "[encoded data removed]",
      "text/plain": [
       "<Figure size 360x360 with 1 Axes>"
      ]
     },
     "metadata": {},
     "output_type": "display_data"
    }
   ],
   "source": [
    "below_hundred['genre_split'].value_counts().nlargest(5).plot(kind='pie',figsize=(5,5));"
   ]
  },
  {
   "cell_type": "code",
   "execution_count": 485,
   "id": "43e2fef2",
   "metadata": {
    "scrolled": true
   },
   "outputs": [
    {
     "data": {
      "image/png": "[encoded data removed]",
      "text/plain": [
       "<Figure size 360x360 with 1 Axes>"
      ]
     },
     "metadata": {},
     "output_type": "display_data"
    }
   ],
   "source": [
    "top_hundred['genre_split'].value_counts().nlargest(5).plot(kind='pie', figsize=(5,5));"
   ]
  },
  {
   "cell_type": "markdown",
   "id": "c2be4254",
   "metadata": {},
   "source": [
    "*Movies that make less revenue are Dramas, Comedies, and Thrillers.\n",
    "*The top 100 revenue producing movies are Adventure, Action, and Fantasy\n",
    "Do higher revenue films make more profits?"
   ]
  },
  {
   "cell_type": "code",
   "execution_count": 486,
   "id": "82562669",
   "metadata": {},
   "outputs": [
    {
     "name": "stdout",
     "output_type": "stream",
     "text": [
      "6.42872733832417\n",
      "7.460632183908052\n",
      "17325539.638405338\n",
      "207606599.1954023\n",
      "24.420402272932265\n",
      "58.798850574712645\n"
     ]
    }
   ],
   "source": [
    "print(below_hundred['imdb_score'].mean())\n",
    "print(top_hundred['imdb_score'].mean())\n",
    "print(below_hundred['profit'].mean())\n",
    "print(top_hundred['profit'].mean())\n",
    "print(below_hundred['profitability_ratio'].mean())\n",
    "print(top_hundred['profitability_ratio'].mean())"
   ]
  },
  {
   "cell_type": "code",
   "execution_count": 487,
   "id": "809038b9",
   "metadata": {
    "scrolled": false
   },
   "outputs": [
    {
     "data": {
      "image/png": "[encoded data removed]",
      "text/plain": [
       "<Figure size 432x288 with 1 Axes>"
      ]
     },
     "metadata": {
      "needs_background": "light"
     },
     "output_type": "display_data"
    }
   ],
   "source": [
    "locations = [1, 2]\n",
    "heights = [below_hundred['profitability_ratio'].mean(), df_top_hundred['profitability_ratio'].mean()]\n",
    "labels = ['Under Top 100', 'Top 100']\n",
    "plt.bar(locations, heights, tick_label=labels)\n",
    "plt.title('Profitability Ratio by Revenues', size=18)\n",
    "plt.xlabel('gross', size=12)\n",
    "plt.ylabel('Profitability', size=12);"
   ]
  },
  {
   "cell_type": "markdown",
   "id": "31c47575",
   "metadata": {},
   "source": [
    "Yes, movies that do better at the box office have nearly double the profits as those that make\n",
    "less. Movies under the Top 100 have profitability ratio of 25%, while those in the Top 100 is\n",
    "84%, a 59% increase.\n",
    "Top revenue movies have higher budgets and much higher profits."
   ]
  },
  {
   "cell_type": "code",
   "execution_count": 488,
   "id": "6c3e924a",
   "metadata": {},
   "outputs": [
    {
     "data": {
      "text/plain": [
       "revenue_rating\n",
       "under_million    1.824207e+04\n",
       "millions         2.494113e+07\n",
       "billions                  NaN\n",
       "Name: profit, dtype: float64"
      ]
     },
     "execution_count": 488,
     "metadata": {},
     "output_type": "execute_result"
    }
   ],
   "source": [
    "# break it down by the bins:\n",
    "top_profits = df.groupby('revenue_rating')['profit'].mean()\n",
    "top_profits"
   ]
  },
  {
   "cell_type": "code",
   "execution_count": 489,
   "id": "778b936a",
   "metadata": {
    "scrolled": true
   },
   "outputs": [
    {
     "name": "stdout",
     "output_type": "stream",
     "text": [
      "(135895977.01149425, 343502576.20689654, 207606599.1954023) (49431481.322449714, 47087514.95255705, 17325539.638405338)\n"
     ]
    },
    {
     "data": {
      "image/png": "[encoded data removed]",
      "text/plain": [
       "<Figure size 432x288 with 1 Axes>"
      ]
     },
     "metadata": {
      "needs_background": "light"
     },
     "output_type": "display_data"
    }
   ],
   "source": [
    "# plot bars\n",
    "top = top_hundred['budget'].mean(), top_hundred['gross'].mean(), top_hundred['profit'].mean()\n",
    "bottom = below_hundred['budget'].mean(), below_hundred['gross'].mean(), below_hundred['profit'].mean()\n",
    "print(top, bottom)\n",
    "ind = np.arange(len(top))\n",
    "width = 0.25\n",
    "top_bars = plt.bar(ind, top, width, color='m', alpha=.7, label='Top 100')\n",
    "bottom_bars = plt.bar(ind + width, bottom, width, color='g', alpha=.7, label='Below 100')\n",
    "# title and labels\n",
    "plt.ylabel('Average, usd')\n",
    "plt.xlabel('Budget, gross, Profit')\n",
    "plt.title('Budget, Revenue, Profit by Top Revenue Films and Below')\n",
    "locations = ind + width / 2 # xtick locations\n",
    "labels = ['Budget', 'gross', 'Profit'] # xtick labels\n",
    "plt.xticks(locations, labels)\n",
    "# legend\n",
    "plt.legend();"
   ]
  },
  {
   "cell_type": "markdown",
   "id": "da71d487",
   "metadata": {},
   "source": [
    "Movies with higher revenues have correspondingly higher budgets, revenues, and profits."
   ]
  },
  {
   "cell_type": "code",
   "execution_count": 490,
   "id": "d26c7fb2",
   "metadata": {},
   "outputs": [
    {
     "data": {
      "text/plain": [
       "<AxesSubplot:ylabel='Frequency'>"
      ]
     },
     "execution_count": 490,
     "metadata": {},
     "output_type": "execute_result"
    },
    {
     "data": {
      "image/png": "[encoded data removed]",
      "text/plain": [
       "<Figure size 432x288 with 1 Axes>"
      ]
     },
     "metadata": {
      "needs_background": "light"
     },
     "output_type": "display_data"
    }
   ],
   "source": [
    "df['profit'].plot(kind='hist',logy=True)"
   ]
  },
  {
   "cell_type": "code",
   "execution_count": 491,
   "id": "88549640",
   "metadata": {},
   "outputs": [
    {
     "data": {
      "text/plain": [
       "Text(0.5, 0, 'IMDB Score')"
      ]
     },
     "execution_count": 491,
     "metadata": {},
     "output_type": "execute_result"
    },
    {
     "data": {
      "image/png": "[encoded data removed]",
      "text/plain": [
       "<Figure size 432x288 with 1 Axes>"
      ]
     },
     "metadata": {
      "needs_background": "light"
     },
     "output_type": "display_data"
    }
   ],
   "source": [
    "ax = df['imdb_score'].plot(kind='hist')\n",
    "ax.set_xlabel(\"IMDB Score\")"
   ]
  },
  {
   "cell_type": "code",
   "execution_count": 492,
   "id": "a0c74c7b",
   "metadata": {},
   "outputs": [
    {
     "data": {
      "text/plain": [
       "207606599.1954023"
      ]
     },
     "execution_count": 492,
     "metadata": {},
     "output_type": "execute_result"
    }
   ],
   "source": [
    "top_hundred['profit'].mean()\n"
   ]
  },
  {
   "cell_type": "code",
   "execution_count": 493,
   "id": "7dad8f6b",
   "metadata": {},
   "outputs": [
    {
     "data": {
      "text/plain": [
       "17325539.638405338"
      ]
     },
     "execution_count": 493,
     "metadata": {},
     "output_type": "execute_result"
    }
   ],
   "source": [
    "below_hundred['profit'].mean()\n"
   ]
  },
  {
   "cell_type": "code",
   "execution_count": 494,
   "id": "593c3ca3",
   "metadata": {},
   "outputs": [
    {
     "data": {
      "text/plain": [
       "0            Action\n",
       "0         Adventure\n",
       "0           Fantasy\n",
       "0            Sci-Fi\n",
       "1            Action\n",
       "           ...     \n",
       "5035        Romance\n",
       "5035       Thriller\n",
       "5037         Comedy\n",
       "5037          Drama\n",
       "5042    Documentary\n",
       "Name: genre_split, Length: 11435, dtype: object"
      ]
     },
     "execution_count": 494,
     "metadata": {},
     "output_type": "execute_result"
    }
   ],
   "source": [
    "df_split_genre['genre_split']"
   ]
  },
  {
   "cell_type": "code",
   "execution_count": 495,
   "id": "8e370f19",
   "metadata": {},
   "outputs": [
    {
     "data": {
      "text/html": [
       "<div>\n",
       "<style scoped>\n",
       "    .dataframe tbody tr th:only-of-type {\n",
       "        vertical-align: middle;\n",
       "    }\n",
       "\n",
       "    .dataframe tbody tr th {\n",
       "        vertical-align: top;\n",
       "    }\n",
       "\n",
       "    .dataframe thead th {\n",
       "        text-align: right;\n",
       "    }\n",
       "</style>\n",
       "<table border=\"1\" class=\"dataframe\">\n",
       "  <thead>\n",
       "    <tr style=\"text-align: right;\">\n",
       "      <th></th>\n",
       "      <th>profit</th>\n",
       "    </tr>\n",
       "    <tr>\n",
       "      <th>genre_split</th>\n",
       "      <th></th>\n",
       "    </tr>\n",
       "  </thead>\n",
       "  <tbody>\n",
       "    <tr>\n",
       "      <th>Action</th>\n",
       "      <td>2.650046e+07</td>\n",
       "    </tr>\n",
       "    <tr>\n",
       "      <th>Adventure</th>\n",
       "      <td>3.733252e+07</td>\n",
       "    </tr>\n",
       "    <tr>\n",
       "      <th>Animation</th>\n",
       "      <td>4.269006e+07</td>\n",
       "    </tr>\n",
       "    <tr>\n",
       "      <th>Biography</th>\n",
       "      <td>1.761636e+07</td>\n",
       "    </tr>\n",
       "    <tr>\n",
       "      <th>Comedy</th>\n",
       "      <td>2.312101e+07</td>\n",
       "    </tr>\n",
       "    <tr>\n",
       "      <th>Crime</th>\n",
       "      <td>1.510721e+07</td>\n",
       "    </tr>\n",
       "    <tr>\n",
       "      <th>Documentary</th>\n",
       "      <td>1.046862e+07</td>\n",
       "    </tr>\n",
       "    <tr>\n",
       "      <th>Drama</th>\n",
       "      <td>1.682752e+07</td>\n",
       "    </tr>\n",
       "    <tr>\n",
       "      <th>Family</th>\n",
       "      <td>3.826414e+07</td>\n",
       "    </tr>\n",
       "    <tr>\n",
       "      <th>Fantasy</th>\n",
       "      <td>3.516758e+07</td>\n",
       "    </tr>\n",
       "    <tr>\n",
       "      <th>Film-Noir</th>\n",
       "      <td>0.000000e+00</td>\n",
       "    </tr>\n",
       "    <tr>\n",
       "      <th>History</th>\n",
       "      <td>1.392699e+07</td>\n",
       "    </tr>\n",
       "    <tr>\n",
       "      <th>Horror</th>\n",
       "      <td>1.731203e+07</td>\n",
       "    </tr>\n",
       "    <tr>\n",
       "      <th>Music</th>\n",
       "      <td>2.043543e+07</td>\n",
       "    </tr>\n",
       "    <tr>\n",
       "      <th>Musical</th>\n",
       "      <td>2.815174e+07</td>\n",
       "    </tr>\n",
       "    <tr>\n",
       "      <th>Mystery</th>\n",
       "      <td>1.793193e+07</td>\n",
       "    </tr>\n",
       "    <tr>\n",
       "      <th>Romance</th>\n",
       "      <td>2.104136e+07</td>\n",
       "    </tr>\n",
       "    <tr>\n",
       "      <th>Sci-Fi</th>\n",
       "      <td>3.148833e+07</td>\n",
       "    </tr>\n",
       "    <tr>\n",
       "      <th>Short</th>\n",
       "      <td>9.092670e+05</td>\n",
       "    </tr>\n",
       "    <tr>\n",
       "      <th>Sport</th>\n",
       "      <td>2.004072e+07</td>\n",
       "    </tr>\n",
       "    <tr>\n",
       "      <th>Thriller</th>\n",
       "      <td>1.767615e+07</td>\n",
       "    </tr>\n",
       "    <tr>\n",
       "      <th>War</th>\n",
       "      <td>1.646707e+07</td>\n",
       "    </tr>\n",
       "    <tr>\n",
       "      <th>Western</th>\n",
       "      <td>1.707612e+07</td>\n",
       "    </tr>\n",
       "  </tbody>\n",
       "</table>\n",
       "</div>"
      ],
      "text/plain": [
       "                   profit\n",
       "genre_split              \n",
       "Action       2.650046e+07\n",
       "Adventure    3.733252e+07\n",
       "Animation    4.269006e+07\n",
       "Biography    1.761636e+07\n",
       "Comedy       2.312101e+07\n",
       "Crime        1.510721e+07\n",
       "Documentary  1.046862e+07\n",
       "Drama        1.682752e+07\n",
       "Family       3.826414e+07\n",
       "Fantasy      3.516758e+07\n",
       "Film-Noir    0.000000e+00\n",
       "History      1.392699e+07\n",
       "Horror       1.731203e+07\n",
       "Music        2.043543e+07\n",
       "Musical      2.815174e+07\n",
       "Mystery      1.793193e+07\n",
       "Romance      2.104136e+07\n",
       "Sci-Fi       3.148833e+07\n",
       "Short        9.092670e+05\n",
       "Sport        2.004072e+07\n",
       "Thriller     1.767615e+07\n",
       "War          1.646707e+07\n",
       "Western      1.707612e+07"
      ]
     },
     "execution_count": 495,
     "metadata": {},
     "output_type": "execute_result"
    }
   ],
   "source": [
    "df_gen_pro"
   ]
  },
  {
   "cell_type": "markdown",
   "id": "3d3b9d2d",
   "metadata": {},
   "source": [
    "A testable hypothesis:\n",
    "IF the Drama genre have bigger profit than documnetary THEN average profit will be greater for Drama Genre than for Documentary\n",
    "           Drama   Documentary\n",
    "     mean  1.68M   1.046M \n",
    "   \n",
    "Null Hypothesis: Profit of the movie does not depends on higher budget or the genre.\n",
    "\n",
    "Alternative Hypothesis: If Action/Adventure/fantacy genre movies have greater profit then  people invest in Action genre than drama/comedy/thrillar\n"
   ]
  },
  {
   "cell_type": "code",
   "execution_count": 496,
   "id": "c5afd8d0",
   "metadata": {},
   "outputs": [
    {
     "name": "stdout",
     "output_type": "stream",
     "text": [
      "one_tail uk-germany difference:  0.017250321450024253\n"
     ]
    }
   ],
   "source": [
    "country_means=df_split_genre.groupby('genre_split')['profit'].mean()\n",
    "country_std=df_split_genre.groupby('genre_split')['profit'].std()\n",
    "country_count=df_split_genre.groupby('genre_split')['profit'].count()\n",
    "combinederror=(((country_std['Drama']**2)/country_count['Drama'])+((country_std['Documentary']**2)/country_count['Documentary']))**0.5   \n",
    "z=(country_means['Drama']-country_means['Documentary'])/combinederror\n",
    "\n",
    "p_value_from_normal_for_diff = (1-stats.norm.cdf(z))\n",
    "print ('one_tail uk-germany difference: ', p_value_from_normal_for_diff)"
   ]
  },
  {
   "cell_type": "markdown",
   "id": "0253c89d",
   "metadata": {},
   "source": [
    "P value of my testing is 0.017 So we can neglect the Null hypotheis value because it is less then than the 0.05. I would therefore conclude that there is a my alternative hypothesis to be correct.We cannot reject the null hypothesis, because there is not enough evidence to support the alternative hypothesis too. But we have a budget of 1.5M from which we can invest in Drama genre and get a medium profit, Because Action adventure and fantasy movie profit is high and even the hifh budget. so its better to go for Drama than other high budget movie. \n",
    "Drama, Comedy, Thriller, and Action are the most popular genres in general, and make\n",
    "up about 50% of all movies made from 1960-2015. TV Movies, Westerns, and Foreigns are the least popular.\n",
    "Since 1960, Drama has been the most popular genre per decade except for the 80'swhen Comedy was more poular.\n",
    "Runtime lengths have decreased from 1960 to 2015.\n",
    "Revenues from 1960-2015 have increased 11 million to 54 million.However, taking into account the inflation adjustment it's held fairly steady. Although Drama, Comedy, and Thriller are the most popular genre overall, the Top 100 revenue producing movies are predominantly Adventure, Action, and Fantasy.\n",
    "Movies with higher revenues are consistently more profitable.Revenue and budget have a weakly positive correlation.Movies with higher revenues make more profits. Revenue and profitability have a weak positive correlation.Movies with higher revenues are more popular."
   ]
  },
  {
   "cell_type": "code",
   "execution_count": 497,
   "id": "8cc4840b",
   "metadata": {},
   "outputs": [
    {
     "name": "stdout",
     "output_type": "stream",
     "text": [
      "Submission length is 1045\n"
     ]
    }
   ],
   "source": [
    "##This code will word count all of the markdown cells in the notebook saved at filepath\n",
    "##Running it before providing any answers shows that the questions have a word count of 437\n",
    "\n",
    "import io\n",
    "from nbformat import current\n",
    "\n",
    "#filepath=\"/content/drive/My Drive/NLE Notebooks/assessment/assignment1.ipynb\"\n",
    "filepath=\"Report1-DS-244870.ipynb\"\n",
    "question_count=0\n",
    "\n",
    "with io.open(filepath, 'r', encoding='utf-8') as f:\n",
    "    nb = current.read(f, 'json')\n",
    "\n",
    "word_count = 0\n",
    "for cell in nb.worksheets[0].cells:\n",
    "    if cell.cell_type == \"markdown\":\n",
    "        word_count += len(cell['source'].replace('#', '').lstrip().split(' '))\n",
    "print(\"Submission length is {}\".format(word_count-question_count))"
   ]
  },
  {
   "cell_type": "code",
   "execution_count": null,
   "id": "bb0953dc",
   "metadata": {},
   "outputs": [],
   "source": []
  },
  {
   "cell_type": "code",
   "execution_count": null,
   "id": "7257d441",
   "metadata": {},
   "outputs": [],
   "source": []
  },
  {
   "cell_type": "code",
   "execution_count": null,
   "id": "34579ae0",
   "metadata": {},
   "outputs": [],
   "source": []
  },
  {
   "cell_type": "code",
   "execution_count": null,
   "id": "b92febf9",
   "metadata": {},
   "outputs": [],
   "source": []
  }
 ],
 "metadata": {
  "celltoolbar": "Raw Cell Format",
  "kernelspec": {
   "display_name": "Python 3",
   "language": "python",
   "name": "python3"
  },
  "language_info": {
   "codemirror_mode": {
    "name": "ipython",
    "version": 3
   },
   "file_extension": ".py",
   "mimetype": "text/x-python",
   "name": "python",
   "nbconvert_exporter": "python",
   "pygments_lexer": "ipython3",
   "version": "3.8.8"
  }
 },
 "nbformat": 4,
 "nbformat_minor": 5
}
